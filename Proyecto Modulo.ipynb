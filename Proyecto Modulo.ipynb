{
 "cells": [
  {
   "cell_type": "markdown",
   "metadata": {
    "id": "vaH4sxHBU0x7"
   },
   "source": [
    "# Librerías\n",
    "\n"
   ]
  },
  {
   "cell_type": "code",
   "execution_count": null,
   "metadata": {
    "id": "rMH81dXsnTCk"
   },
   "outputs": [],
   "source": [
    "#Básicos\n",
    "import numpy as np\n",
    "import pandas as pd\n",
    "import matplotlib.pyplot as plt\n",
    "import matplotlib\n",
    "from sklearn import preprocessing, model_selection, metrics, ensemble\n",
    "from timeit import default_timer as timer\n",
    "\n",
    "#libreria para escribir bonito\n",
    "from matplotlib.pyplot import rcParams\n",
    "import matplotlib.patches as mpatches\n",
    "\n",
    "#Clasificadores\n",
    "from sklearn.ensemble import RandomForestClassifier\n",
    "from imblearn.ensemble import BalancedRandomForestClassifier\n",
    "\n",
    "#Herramientas clasificadores\n",
    "from sklearn.metrics import confusion_matrix\n",
    "from sklearn.model_selection import train_test_split\n",
    "from sklearn import preprocessing, model_selection, metrics, ensemble\n",
    "from sklearn.model_selection import cross_val_score\n",
    "\n",
    "\n",
    "#No me acuerdo equisde\n",
    "import pickle\n",
    "import itertools\n",
    "from collections import Counter\n",
    "from scipy.stats import randint as sp_randint\n",
    "from sklearn.utils import class_weight\n",
    "from sklearn.preprocessing import StandardScaler\n"
   ]
  },
  {
   "cell_type": "markdown",
   "metadata": {
    "id": "YWM15ZBKU77C"
   },
   "source": [
    "# Pre procesamiento de los datos\n"
   ]
  },
  {
   "cell_type": "markdown",
   "metadata": {
    "id": "VX6u2I1l9UUN"
   },
   "source": [
    "## Estos datos ocuparemos para hacer el training y el testeo"
   ]
  },
  {
   "cell_type": "code",
   "execution_count": null,
   "metadata": {
    "colab": {
     "base_uri": "https://localhost:8080/"
    },
    "id": "GQJGpjUXMQFs",
    "outputId": "5f3a3fd3-b351-4d44-c4f4-822cc894b4cf"
   },
   "outputs": [
    {
     "name": "stdout",
     "output_type": "stream",
     "text": [
      "Mounted at /content/drive/\n"
     ]
    }
   ],
   "source": [
    "#Importar el paquete drive para importar archivos desde nuestro Google Drive\n",
    "from google.colab import drive\n",
    "drive.mount('/content/drive/')"
   ]
  },
  {
   "cell_type": "code",
   "execution_count": null,
   "metadata": {
    "id": "3KV-oTUxK_W9"
   },
   "outputs": [],
   "source": [
    "#Importamos el csv directamente en un dataframe\n",
    "dfo = pd.read_csv('/content/drive/My Drive/Modulo_Inter/ALeRCE_ZTF_light_curve_classifications_unlabeled_set_20200609.csv')\n",
    "#imprimimos parte del DF\n",
    "print(dfo.shape)\n",
    "dfo.head()\n"
   ]
  },
  {
   "cell_type": "markdown",
   "metadata": {
    "id": "pV0lRYaU9eey"
   },
   "source": [
    "Printeamos todas las columnas"
   ]
  },
  {
   "cell_type": "code",
   "execution_count": null,
   "metadata": {
    "id": "8aqmXJ6cMNhX"
   },
   "outputs": [],
   "source": [
    "for col in dfo.columns: \n",
    "    print(col) "
   ]
  },
  {
   "cell_type": "markdown",
   "metadata": {
    "id": "xhmOULxWwBTA"
   },
   "source": [
    "## Se dividen las 15 clases en las 3 clases generales"
   ]
  },
  {
   "cell_type": "code",
   "execution_count": null,
   "metadata": {
    "id": "QApKl0T_wIfl"
   },
   "outputs": [],
   "source": [
    "#función que hace la clasificación de un dato\n",
    "def threeclasses(x):\n",
    "  if x== 'SNIa' or x=='SNIbc' or x=='SNII' or x=='SLSN':\n",
    "    return 'Transient'\n",
    "  elif x=='AGN' or x=='QSO' or x=='Blazar' or x=='CV/Nova' or x=='YSO':\n",
    "    return 'Stochastic'\n",
    "  elif x=='DSCT' or x=='RRL' or x=='CEP' or x=='LPV' or x=='E' or x=='Periodic-Other':\n",
    "    return 'Periodic'\n",
    "  else:\n",
    "    return None\n",
    "\n",
    "\n",
    "#se crea una nueva columna 'Clases' aplicando la función definida a la columna 'predicted_classes'\n",
    "#df['Clases'] = df['predicted_class'].apply(threeclasses)\n",
    "dfo['Clases'] = dfo['predicted_class'].apply(threeclasses)\n",
    "#dfo['Clases_numero'] = dfo['Clases'].apply(numero)\n",
    "dfo.head()"
   ]
  },
  {
   "cell_type": "markdown",
   "metadata": {
    "id": "zR89KwxFw7y6"
   },
   "source": [
    "Visualización de la cantidad de datos por cada nueva clase"
   ]
  },
  {
   "cell_type": "code",
   "execution_count": null,
   "metadata": {
    "colab": {
     "base_uri": "https://localhost:8080/",
     "height": 560
    },
    "id": "2nGJcf9IwqvU",
    "outputId": "52ccdca7-de42-4eb9-806b-547c683cb262"
   },
   "outputs": [
    {
     "name": "stdout",
     "output_type": "stream",
     "text": [
      "Clases\n",
      "Periodic      705659\n",
      "Stochastic    155513\n",
      "Transient       7199\n",
      "Name: objectId, dtype: int64\n"
     ]
    },
    {
     "data": {
      "text/plain": [
       "Text(0, 0.5, 'Clases')"
      ]
     },
     "execution_count": 7,
     "metadata": {
      "tags": []
     },
     "output_type": "execute_result"
    },
    {
     "data": {
      "image/png": "[encoded data removed]",
      "text/plain": [
       "<Figure size 1080x504 with 1 Axes>"
      ]
     },
     "metadata": {
      "needs_background": "light",
      "tags": []
     },
     "output_type": "display_data"
    }
   ],
   "source": [
    "print(dfo.groupby(['Clases']).count()['objectId'])\n",
    "# Se hace un histograma que muestre las cantidades de objetos que hay en cada una de las tres clases\n",
    "fig, ax = plt.subplots(figsize=(15,7))\n",
    "dfo.groupby(['Clases']).count()['objectId'].plot(kind='barh', color = 'mediumpurple')\n",
    "ax.set_title('Histograma cantidad de objetos pertenecientes a las clases')\n",
    "ax.set_xlabel('Frecuencia')\n",
    "ax.set_ylabel('Clases')"
   ]
  },
  {
   "cell_type": "markdown",
   "metadata": {
    "id": "h72nOxhL0GUY"
   },
   "source": [
    "Función para plotear la matriz de confusión"
   ]
  },
  {
   "cell_type": "code",
   "execution_count": null,
   "metadata": {
    "id": "EKHsQ2ossRI2"
   },
   "outputs": [],
   "source": [
    "#@title\n",
    "from sklearn.utils.multiclass import unique_labels\n",
    "#Definimos la función para crear matrices de confusión\n",
    "def plot_confusion_matrix(y_true, y_pred, classes,\n",
    "                          normalize=False,\n",
    "                          title=None,\n",
    "                          cmap=plt.cm.Blues):\n",
    "    \"\"\"\n",
    "    This function prints and plots the confusion matrix.\n",
    "    Normalization can be applied by setting `normalize=True`.\n",
    "    \"\"\"\n",
    "    if not title:\n",
    "        if normalize:\n",
    "            title = 'Matriz de confusion normalizada'\n",
    "        else:\n",
    "            title = 'Matriz de confusion, sin normalizacion'\n",
    "\n",
    "    # Compute confusion matrix\n",
    "    cm = confusion_matrix(y_true, y_pred)\n",
    "    # Only use the labels that appear in the data\n",
    "    classes = classes[unique_labels(y_true, y_pred)]\n",
    "    if normalize:\n",
    "        cm = cm.astype('float') / cm.sum(axis=1)[:, np.newaxis]\n",
    "        print(\"Matriz de confusion normalizada\")\n",
    "    else:\n",
    "        print('Matriz de confusion, sin normalizacion')\n",
    "\n",
    "    print(cm)\n",
    "\n",
    "    fig, ax = plt.subplots(figsize = (8,8))\n",
    "    im = ax.imshow(cm, interpolation='nearest', cmap=cmap)\n",
    "    ax.figure.colorbar(im, ax=ax)\n",
    "    # We want to show all ticks...\n",
    "    ax.set(xticks=np.arange(cm.shape[1]),\n",
    "           yticks=np.arange(cm.shape[0]),\n",
    "           # ... and label them with the respective list entries\n",
    "           xticklabels=classes, yticklabels=classes,\n",
    "           title=title,\n",
    "           ylabel='Etiqueta Real',\n",
    "           xlabel='Etiqueta Predicha')\n",
    "\n",
    "    # Rotate the tick labels and set their alignment.\n",
    "    plt.setp(ax.get_xticklabels(), rotation=90, ha=\"right\",\n",
    "             rotation_mode=\"anchor\", fontsize=8)\n",
    "\n",
    "    # Loop over data dimensions and create text annotations.\n",
    "    fmt = '.2f' if normalize else 'd'\n",
    "    thresh = cm.max() / 2.\n",
    "    for i in range(cm.shape[0]):\n",
    "        for j in range(cm.shape[1]):\n",
    "            ax.text(j, i, format(cm[i, j], fmt), fontsize=8,\n",
    "                    ha=\"center\", va=\"center\",\n",
    "                    color=\"white\" if cm[i, j] > thresh else \"black\")\n",
    "            \n",
    "    ax.grid(False)\n",
    "    fig.tight_layout()\n",
    "    return ax"
   ]
  },
  {
   "cell_type": "markdown",
   "metadata": {
    "id": "o0BEa3Ao4jAM"
   },
   "source": [
    "## Detection features"
   ]
  },
  {
   "cell_type": "markdown",
   "metadata": {
    "id": "COV5bczh4q6W"
   },
   "source": [
    "En esta parte, a diferencia de la anterior, se hace uso de los 124 features que son obtenidos usando ZFT y a estas magnitudes se le llaman *atributos de detección*.\n",
    "Se escriben en un archivo txt de una sola columna y se guarda el Github, se lee el archivo, se hace un reshape y se pasa a una lista de Python que se printea.\n"
   ]
  },
  {
   "cell_type": "code",
   "execution_count": null,
   "metadata": {
    "colab": {
     "base_uri": "https://localhost:8080/"
    },
    "id": "vLoR58C4wrf1",
    "outputId": "5aa8e6b5-561c-44fd-d400-963de92cf0c5"
   },
   "outputs": [
    {
     "name": "stdout",
     "output_type": "stream",
     "text": [
      "['delta_period_2', 'IAR_phi_1', 'IAR_phi_2', 'MHPS_PN_flag_1', 'MHPS_PN_flag_2', 'MHPS_high_1', 'MHPS_high_2', 'MHPS_low_1', 'MHPS_low_2', 'MHPS_non_zero_1', 'MHPS_non_zero_2', 'MHPS_ratio_1', 'MHPS_ratio_2', 'positive_fraction_1', 'positive_fraction_2', 'Power_rate_1/2', 'Power_rate_1/3', 'Power_rate_1/4', 'Power_rate_2', 'Power_rate_3', 'Power_rate_4', 'PPE', 'g-r_max', 'g-r_max_corr', 'g-r_mean', 'g-r_mean_corr', 'ExcessVar_1', 'ExcessVar_2', 'GP_DRW_sigma_1', 'GP_DRW_sigma_2', 'GP_DRW_tau_1', 'GP_DRW_tau_2', 'Harmonics_mag_1_1', 'Harmonics_mag_1_2', 'Harmonics_mag_2_1', 'Harmonics_mag_2_2', 'Harmonics_mag_3_1', 'Harmonics_mag_3_2', 'Harmonics_mag_4_1', 'Harmonics_mag_4_2', 'Harmonics_mag_5_1', 'Harmonics_mag_5_2', 'Harmonics_mag_6_1', 'Harmonics_mag_6_2', 'Harmonics_mag_7_1', 'Harmonics_mag_7_2', 'Harmonics_mse_1', 'Harmonics_mse_2', 'Harmonics_phase_2_1', 'Harmonics_phase_2_2', 'Harmonics_phase_3_1', 'Harmonics_phase_3_2', 'Harmonics_phase_4_1', 'Harmonics_phase_4_2', 'Harmonics_phase_5_1', 'Harmonics_phase_5_2', 'Harmonics_phase_6_1', 'Harmonics_phase_6_2', 'Harmonics_phase_7_1', 'Harmonics_phase_7_2', 'Multiband_period', 'Pvar_1', 'Pvar_2', 'SF_ML_amplitude_1', 'SF_ML_amplitude_2', 'SF_ML_gamma_1', 'SF_ML_gamma_2', 'SPM_A_1', 'SPM_A_2', 'SPM_beta_1', 'SPM_beta_2', 'SPM_chi_1', 'SPM_chi_2', 'SPM_gamma_1', 'SPM_gamma_2', 'SPM_t0_1', 'SPM_t0_2', 'SPM_tau_fall_1', 'SPM_tau_fall_2', 'SPM_tau_rise_1', 'SPM_tau_rise_2', 'Amplitude_1', 'Amplitude_2', 'AndersonDarling_1', 'AndersonDarling_2', 'Autocor_length_1', 'Autocor_length_2', 'Con_1', 'Con_2', 'Eta_e_1', 'Eta_e_2', 'Gskew_1', 'Gskew_2', 'LinearTrend_1', 'LinearTrend_2', 'MaxSlope_1', 'MaxSlope_2', 'Meanvariance_1', 'Meanvariance_2', 'MedianAbsDev_1', 'MedianAbsDev_2', 'MedianBRP_1', 'MedianBRP_2', 'PairSlopeTrend_1', 'PairSlopeTrend_2', 'PercentAmplitude_1', 'PercentAmplitude_2', 'Psi_CS_1', 'Psi_CS_2', 'Psi_eta_1', 'Psi_eta_2', 'Q31_1', 'Q31_2', 'Rcs_1', 'Rcs_2', 'Skew_1', 'Skew_2', 'SmallKurtosis_1', 'SmallKurtosis_2', 'Std_1', 'Std_2', 'StetsonK_1', 'StetsonK_2']\n"
     ]
    }
   ],
   "source": [
    "#solo los detection features\n",
    "columnas1 = pd.read_csv(\"https://raw.githubusercontent.com/Wenupi/Datos_proyecto/main/detection_feautures\").to_numpy().reshape(1,123).tolist()\n",
    "#solo los non detection features\n",
    "columnas3= pd.read_csv(\"https://raw.githubusercontent.com/Wenupi/Datos_proyecto/main/non_detection_feautures\").to_numpy().reshape(1,17).tolist()\n",
    "\n",
    "#print(columnas1.shape)\n",
    "for i in columnas1:\n",
    "  print(i)\n"
   ]
  },
  {
   "cell_type": "markdown",
   "metadata": {
    "id": "m-6HuAi-5y89"
   },
   "source": [
    "El output de la celda anterior se copia y pega para crear la lista **columnas_detection** que contiene los nombres de las columnas que se desean seleccionar del DF **dfo**, además se incluye la columna *Clases* para crear el DF **df_detection**."
   ]
  },
  {
   "cell_type": "code",
   "execution_count": null,
   "metadata": {
    "id": "OYX94XWov7fe"
   },
   "outputs": [],
   "source": [
    "#Se crea un df_detection que contendrá los objetos del DataFrame dfo pero considerando solo las 124 columnas detection\n",
    "df_detection = dfo.copy()\n",
    "columnas_detection=['objectId', 'delta_period_2', 'IAR_phi_1', 'IAR_phi_2', 'MHPS_PN_flag_1', 'MHPS_PN_flag_2', 'MHPS_high_1', 'MHPS_high_2', 'MHPS_low_1', 'MHPS_low_2', 'MHPS_non_zero_1', 'MHPS_non_zero_2', 'MHPS_ratio_1', 'MHPS_ratio_2', 'positive_fraction_1', 'positive_fraction_2', 'Power_rate_1/2', 'Power_rate_1/3', 'Power_rate_1/4', 'Power_rate_2', 'Power_rate_3', 'Power_rate_4', 'PPE', 'g-r_max_corr', 'g-r_mean', 'g-r_mean_corr', 'ExcessVar_1', 'ExcessVar_2', 'GP_DRW_sigma_1', 'GP_DRW_sigma_2', 'GP_DRW_tau_1', 'GP_DRW_tau_2', 'Harmonics_mag_1_1', 'Harmonics_mag_1_2', 'Harmonics_mag_2_1', 'Harmonics_mag_2_2', 'Harmonics_mag_3_1', 'Harmonics_mag_3_2', 'Harmonics_mag_4_1', 'Harmonics_mag_4_2', 'Harmonics_mag_5_1', 'Harmonics_mag_5_2', 'Harmonics_mag_6_1', 'Harmonics_mag_6_2', 'Harmonics_mag_7_1', 'Harmonics_mag_7_2', 'Harmonics_mse_1', \n",
    "       'Harmonics_mse_2', 'Harmonics_phase_2_1', 'Harmonics_phase_2_2', 'Harmonics_phase_3_1', 'Harmonics_phase_3_2', 'Harmonics_phase_4_1', 'Harmonics_phase_4_2', 'Harmonics_phase_5_1', 'Harmonics_phase_5_2', 'Harmonics_phase_6_1', 'Harmonics_phase_6_2', 'Harmonics_phase_7_1', 'Harmonics_phase_7_2', 'Multiband_period', 'Pvar_1', 'Pvar_2', 'SF_ML_amplitude_1', 'SF_ML_amplitude_2', 'SF_ML_gamma_1', 'SF_ML_gamma_2', 'SPM_A_1', 'SPM_A_2', 'SPM_beta_1', 'SPM_beta_2', 'SPM_chi_1', 'SPM_chi_2', 'SPM_gamma_1', 'SPM_gamma_2', 'SPM_t0_1', 'SPM_t0_2', 'SPM_tau_fall_1', 'SPM_tau_fall_2', 'SPM_tau_rise_1', 'SPM_tau_rise_2', 'Amplitude_1', 'Amplitude_2', \n",
    "       'AndersonDarling_1', 'AndersonDarling_2', 'Autocor_length_1', 'Autocor_length_2', 'Con_1', 'Con_2', 'Eta_e_1', 'Eta_e_2', 'Gskew_1', 'Gskew_2', 'LinearTrend_1', 'LinearTrend_2', 'MaxSlope_1', 'MaxSlope_2', 'Meanvariance_1', 'Meanvariance_2', 'MedianAbsDev_1', 'MedianAbsDev_2', 'MedianBRP_1', 'MedianBRP_2', 'PairSlopeTrend_1', 'PairSlopeTrend_2', 'PercentAmplitude_1', 'PercentAmplitude_2', 'Psi_CS_1', 'Psi_CS_2', 'Psi_eta_1', 'Psi_eta_2', 'Q31_1', 'Q31_2', 'Rcs_1', 'Rcs_2', 'Skew_1', 'Skew_2', 'SmallKurtosis_1', 'SmallKurtosis_2', 'Std_1', 'Std_2', 'StetsonK_1', 'StetsonK_2', 'predicted_class', 'Clases']\n",
    "df_detection = df_detection[columnas_detection].dropna()\n",
    "\n",
    "print(df_detection.shape)"
   ]
  },
  {
   "cell_type": "markdown",
   "metadata": {
    "id": "qniZAbKfzY2y"
   },
   "source": [
    "## Detection y non detection features (all features)"
   ]
  },
  {
   "cell_type": "markdown",
   "metadata": {
    "id": "yvPDFxqt9rPc"
   },
   "source": [
    "Se separa ahora un DataFrame más grande que contendrá 142 atributos, la diferencia con el anterior es que este, considera columnas detection y 18 columnas non-detection. Al conjunto de atributos detection y non-detection les llamaremos all-detection.\n"
   ]
  },
  {
   "cell_type": "code",
   "execution_count": null,
   "metadata": {
    "id": "VhDNypoC7nqB",
    "outputId": "e55fb7a9-2005-4d5f-8a82-769700aee9a5"
   },
   "outputs": [
    {
     "name": "stdout",
     "output_type": "stream",
     "text": [
      "['dmag_first_det_fid_2', 'dmag_non_det_fid_1', 'dmag_non_det_fid_2', 'last_diffmaglim_before_fid_1', 'last_diffmaglim_before_fid_2', 'max_diffmaglim_before_fid_1', 'max_diffmaglim_before_fid_2', 'max_diffmaglim_after_fid_1', 'max_diffmaglim_after_fid_2', 'median_diffmaglim_after_fid_1', 'median_diffmaglim_after_fid_2', 'median_diffmaglim_before_fid_1', 'median_diffmaglim_before_fid_2', 'n_non_det_after_fid_1', 'n_non_det_after_fid_2', 'n_non_det_before_fid_1', 'n_non_det_before_fid_2']\n"
     ]
    }
   ],
   "source": [
    "for i in columnas3:\n",
    "  print(i)"
   ]
  },
  {
   "cell_type": "code",
   "execution_count": null,
   "metadata": {
    "id": "GG0TN1Xd986C"
   },
   "outputs": [],
   "source": [
    "#Se define el DataFrame con los objetos del DF dfo con las 142 columnas all-detection\n",
    "df_alldetection_pre = dfo.copy()\n",
    "columnas_non_detection = ['dmag_first_det_fid_2', 'dmag_non_det_fid_1', 'dmag_non_det_fid_2', 'last_diffmaglim_before_fid_1', 'last_diffmaglim_before_fid_2', 'max_diffmaglim_before_fid_1', 'max_diffmaglim_before_fid_2', 'max_diffmaglim_after_fid_1', 'max_diffmaglim_after_fid_2', 'median_diffmaglim_after_fid_1', 'median_diffmaglim_after_fid_2', 'median_diffmaglim_before_fid_1', 'median_diffmaglim_before_fid_2', 'n_non_det_after_fid_1', 'n_non_det_after_fid_2', 'n_non_det_before_fid_1', 'n_non_det_before_fid_2']\n",
    "columnas_alldetection = columnas_detection + columnas_non_detection\n",
    "df_alldetection_pre = df_alldetection_pre[columnas_alldetection].dropna()\n",
    "\n",
    "print(df_alldetection_pre.shape)"
   ]
  },
  {
   "cell_type": "markdown",
   "metadata": {
    "id": "rf71SXvarpzJ"
   },
   "source": [
    "Ahora se grafica un nuevo histograma que mostrará la cantidad de objetos que existen en las tres clases principales, considerando solo los objetos sin valores NaN  de las columnas all-detection."
   ]
  },
  {
   "cell_type": "code",
   "execution_count": null,
   "metadata": {
    "id": "2wHGBnMZtpPO",
    "outputId": "e8fbb480-7ee3-4737-aa2b-093a8ae9f7e1"
   },
   "outputs": [
    {
     "name": "stdout",
     "output_type": "stream",
     "text": [
      "Clases\n",
      "Periodic      159114\n",
      "Stochastic     30340\n",
      "Transient        776\n",
      "Name: objectId, dtype: int64\n"
     ]
    },
    {
     "data": {
      "text/plain": [
       "Text(0, 0.5, 'Clases')"
      ]
     },
     "execution_count": 17,
     "metadata": {
      "tags": []
     },
     "output_type": "execute_result"
    },
    {
     "data": {
      "image/png": "[encoded data removed]",
      "text/plain": [
       "<Figure size 1080x504 with 1 Axes>"
      ]
     },
     "metadata": {
      "needs_background": "light",
      "tags": []
     },
     "output_type": "display_data"
    }
   ],
   "source": [
    "print(df_alldetection_pre.groupby(['Clases']).count()['objectId'])\n",
    "# Se grafica el histograma\n",
    "fig, ax = plt.subplots(figsize=(15,7))\n",
    "# use unstack()\n",
    "df_alldetection_pre.groupby(['Clases']).count()['objectId'].plot(kind='barh', color = 'mediumpurple')\n",
    "ax.set_title('Histograma cantidad de objetos pertenecientes a las clases')\n",
    "ax.set_xlabel('Frecuencia')\n",
    "ax.set_ylabel('Clases')"
   ]
  },
  {
   "cell_type": "markdown",
   "metadata": {
    "id": "cVUtV1m1r-rd"
   },
   "source": [
    "Ahora, se crean 3 conjuntos de objetos tal que se obtenga la misma cantidad de objetos para cada una de las tres clases."
   ]
  },
  {
   "cell_type": "code",
   "execution_count": null,
   "metadata": {
    "id": "kqr6Kbjxt8YS",
    "outputId": "c0b68786-9de5-4ac2-a63f-188247038018"
   },
   "outputs": [
    {
     "data": {
      "text/plain": [
       "(2328, 142)"
      ]
     },
     "execution_count": 18,
     "metadata": {
      "tags": []
     },
     "output_type": "execute_result"
    }
   ],
   "source": [
    "transientes_alldetection = df_alldetection_pre.loc[df_alldetection_pre['Clases']=='Transient'].sample(n=776)\n",
    "periodicos_alldetection = df_alldetection_pre.loc[df_alldetection_pre['Clases']=='Periodic'].sample(n=776)\n",
    "estocasticos_alldetection = df_alldetection_pre.loc[df_alldetection_pre['Clases']=='Stochastic'].sample(n=776)\n",
    "\n",
    "df_alldetection = pd.concat([transientes_alldetection, periodicos_alldetection, estocasticos_alldetection])\n",
    "df_alldetection.shape"
   ]
  },
  {
   "cell_type": "code",
   "execution_count": null,
   "metadata": {
    "id": "W8BPG0BSLwlU",
    "outputId": "2498786c-6da6-47dd-a789-adb5362b1cfd"
   },
   "outputs": [
    {
     "data": {
      "text/plain": [
       "{'Transient': 0, 'Periodic': 1, 'Stochastic': 2}"
      ]
     },
     "execution_count": 19,
     "metadata": {
      "tags": []
     },
     "output_type": "execute_result"
    }
   ],
   "source": [
    "#Se le asigna un número a cada una de las clases para definir más fácilmente los arreglos para la clasificación\n",
    "clases_alldetection = df_alldetection['Clases'].unique()\n",
    "mapa_alldetection = {}\n",
    "for clase, i in enumerate(clases_alldetection):\n",
    "    mapa_alldetection[i] = clase\n",
    "mapa_alldetection"
   ]
  },
  {
   "cell_type": "markdown",
   "metadata": {
    "id": "DEKDJZLYLwlU"
   },
   "source": [
    "Clasificación con clases balanceadas"
   ]
  },
  {
   "cell_type": "code",
   "execution_count": null,
   "metadata": {
    "id": "CSK5VKGb_Qss",
    "outputId": "9a1c5348-e5fe-4cc6-b665-2e6f8fd037f7"
   },
   "outputs": [
    {
     "name": "stdout",
     "output_type": "stream",
     "text": [
      "Para el clasificador random forest:\n",
      "Cross validation promedio:  0.939\n",
      "Cross validation std:       0.009\n",
      "Accuracy: 0.9362808842652796\n",
      "Balanced accuracy: 0.9336123162982003\n",
      "Matriz de confusion normalizada\n",
      "[[0.96138996 0.003861   0.03474903]\n",
      " [0.         0.97080292 0.02919708]\n",
      " [0.02118644 0.11016949 0.86864407]]\n"
     ]
    },
    {
     "data": {
      "text/plain": [
       "<matplotlib.axes._subplots.AxesSubplot at 0x57d8820>"
      ]
     },
     "execution_count": 20,
     "metadata": {
      "tags": []
     },
     "output_type": "execute_result"
    },
    {
     "data": {
      "image/png": "[encoded data removed]",
      "text/plain": [
       "<Figure size 576x576 with 2 Axes>"
      ]
     },
     "metadata": {
      "needs_background": "light",
      "tags": []
     },
     "output_type": "display_data"
    }
   ],
   "source": [
    "# creación de los arreglos de atributos y clases\n",
    "X_alldetection = df_alldetection.drop(['objectId', 'predicted_class',\"Clases\"], axis=1)\n",
    "y_alldetection = np.array(df_alldetection['Clases'].map(mapa_alldetection))\n",
    "\n",
    "\n",
    "# separación en testeo y prueba\n",
    "X_train_alldetection, X_test_alldetection, y_train_alldetection, y_test_alldetection = train_test_split(X_alldetection, y_alldetection, test_size=0.33, random_state=66)\n",
    "\n",
    "# se llama al clasificador\n",
    "rfc_alldetection = RandomForestClassifier() \n",
    "# entrenamiento del modelo\n",
    "rfc_alldetection.fit(X_train_alldetection,y_train_alldetection)\n",
    "# predicciones\n",
    "rfc_predict_alldetection = rfc_alldetection.predict(X_test_alldetection)\n",
    "\n",
    "#cross value\n",
    "scores1_alldetection = cross_val_score(rfc_alldetection, X_alldetection, y_alldetection, cv=4, scoring='accuracy')\n",
    "print('Para el clasificador random forest:')\n",
    "print('Cross validation promedio: ', format(scores1_alldetection.mean(), '.3f'))\n",
    "print('Cross validation std:      ', format(scores1_alldetection.std(), '.3f'))\n",
    "print(\"Accuracy:\", metrics.accuracy_score(y_test_alldetection, rfc_predict_alldetection))\n",
    "print(\"Balanced accuracy:\", metrics.balanced_accuracy_score(y_test_alldetection, rfc_predict_alldetection))\n",
    "#clases_alldetection = df_alldetection['Clases'].unique()\n",
    "#matriz de confusión \n",
    "plot_confusion_matrix2(y_test_alldetection, rfc_predict_alldetection, classes=clases_alldetection, normalize = True,\n",
    "                      title='Matriz de confusión RandomForest all features')\n"
   ]
  },
  {
   "cell_type": "markdown",
   "metadata": {
    "id": "IUiQYvg1zRi2"
   },
   "source": [
    "## 42 atributos FATS"
   ]
  },
  {
   "cell_type": "markdown",
   "metadata": {
    "id": "D-SOtzAeyLCr"
   },
   "source": [
    "42 atributos recomendados para estudiar objetos variables, muestran características de las curvas de luz. Se realiza **el mismo procedimiento**"
   ]
  },
  {
   "cell_type": "markdown",
   "metadata": {
    "id": "0U2UotUULwlV"
   },
   "source": [
    "# Clasificación con atributos FATS para 190mil objetos"
   ]
  },
  {
   "cell_type": "code",
   "execution_count": null,
   "metadata": {
    "id": "zWAevKW6LwlV",
    "outputId": "56f03856-3050-43af-dbca-14fc106b7253"
   },
   "outputs": [
    {
     "name": "stdout",
     "output_type": "stream",
     "text": [
      "['Amplitude_2', 'AndersonDarling_1', 'AndersonDarling_2', 'Autocor_length_1', 'Autocor_length_2', 'Con_1', 'Con_2', 'Eta_e_1', 'Eta_e_2', 'Gskew_1', 'Gskew_2', 'LinearTrend_1', 'LinearTrend_2', 'MaxSlope_1', 'MaxSlope_2', 'Meanvariance_1', 'Meanvariance_2', 'MedianAbsDev_1', 'MedianAbsDev_2', 'MedianBRP_1', 'MedianBRP_2', 'PairSlopeTrend_1', 'PairSlopeTrend_2', 'PercentAmplitude_1', 'PercentAmplitude_2', 'Psi_CS_1', 'Psi_CS_2', 'Psi_eta_1', 'Psi_eta_2', 'Q31_1', 'Q31_2', 'Rcs_1', 'Rcs_2', 'Skew_1', 'Skew_2', 'SmallKurtosis_1', 'SmallKurtosis_2', 'Std_1', 'Std_2', 'StetsonK_1', 'StetsonK_2']\n"
     ]
    }
   ],
   "source": [
    "# Se definen las 22 columnas de atributos FATS\n",
    "columnas_FATS_pre= pd.read_csv('https://raw.githubusercontent.com/Wenupi/Datos_proyecto/main/FATS_features').to_numpy().reshape(1,41).tolist()\n",
    "\n",
    "#print(columnas1.shape)\n",
    "for i in columnas_FATS_pre:\n",
    "  print(i)\n",
    "\n"
   ]
  },
  {
   "cell_type": "code",
   "execution_count": null,
   "metadata": {
    "id": "KoWJv0G5LwlV"
   },
   "outputs": [],
   "source": [
    "#Se crea un DataFrame con los 190mil objetos que quedaron luego de quitar los NaN de las columnas all-detection pero considerando solo los atributos FATS\n",
    "df_22 = df_alldetection_pre.copy()\n",
    "columnas_FATS = ['objectId','Amplitude_2', 'AndersonDarling_1', 'AndersonDarling_2', 'Autocor_length_1', 'Autocor_length_2', 'Con_1', 'Con_2', 'Eta_e_1', 'Eta_e_2', 'Gskew_1', 'Gskew_2', 'LinearTrend_1', 'LinearTrend_2', 'MaxSlope_1', 'MaxSlope_2', 'Meanvariance_1', 'Meanvariance_2', 'MedianAbsDev_1', 'MedianAbsDev_2', \n",
    "                 'MedianBRP_1', 'MedianBRP_2', 'PairSlopeTrend_1', 'PairSlopeTrend_2', 'PercentAmplitude_1', 'PercentAmplitude_2', 'Psi_CS_1', 'Psi_CS_2', 'Psi_eta_1', 'Psi_eta_2', 'Q31_1', 'Q31_2', 'Rcs_1', 'Rcs_2', 'Skew_1', 'Skew_2', 'SmallKurtosis_1', 'SmallKurtosis_2', 'Std_1', 'Std_2', 'StetsonK_1', 'StetsonK_2','predicted_class',\"Clases\"]\n",
    "df_22 = df_22[columnas_FATS].dropna()\n",
    "print(df_22.shape)\n",
    "df_22.head()"
   ]
  },
  {
   "cell_type": "code",
   "execution_count": null,
   "metadata": {
    "id": "2VzDqo9QLwlV",
    "outputId": "316d2e49-0dc3-460b-cc38-2857528f5c58"
   },
   "outputs": [
    {
     "data": {
      "text/plain": [
       "{'Periodic': 0, 'Stochastic': 1, 'Transient': 2}"
      ]
     },
     "execution_count": 23,
     "metadata": {
      "tags": []
     },
     "output_type": "execute_result"
    }
   ],
   "source": [
    "# Se definen las clases como números para luego definir los arreglos de atributos\n",
    "clases_22 = df_22['Clases'].unique()\n",
    "mapa_22 = {}\n",
    "for clase, i in enumerate(clases_22):\n",
    "    mapa_22[i] = clase\n",
    "mapa_22"
   ]
  },
  {
   "cell_type": "markdown",
   "metadata": {
    "id": "z3B5Ac38vAiI"
   },
   "source": [
    "Se realiza la clasificación para los atributos FATS, considerando el tiempo que se demora en correr, el cross validation y el accuracy. Como se utilian los 190000 objetos, las clases no están balanceadas, por lo que es necesario usar el clasificador BalancedRandomForest"
   ]
  },
  {
   "cell_type": "code",
   "execution_count": null,
   "metadata": {
    "id": "3wQ2-FPHyhGp"
   },
   "outputs": [],
   "source": [
    "start = timer()\n",
    "# creación de los arreglos de atributos y clases\n",
    "X_22 = df_22.drop(['objectId', 'predicted_class',\"Clases\"], axis=1)\n",
    "y_22 = np.array(df_22['Clases'].map(mapa_22))\n",
    "\n",
    "#np.array(df_alldetection['Clases'].map(mapa_alldetection))\n",
    "\n",
    "# separación en testeo y prueba\n",
    "X_train_22, X_test_22, y_train_22, y_test_22 = train_test_split(X_22, y_22, test_size=0.33, random_state=66)\n",
    "\n",
    "# se llama al clasificador\n",
    "rfc_22 = BalancedRandomForestClassifier() \n",
    "# entrenamiento del modelo\n",
    "rfc_22.fit(X_train_22,y_train_22)\n",
    "# predicciones\n",
    "rfc_predict_22 = rfc_22.predict(X_test_22)\n",
    "\n",
    "#cross value\n",
    "scores1_22 = cross_val_score(rfc_22, X_22, y_22, cv=4, scoring='accuracy')\n",
    "print('Para el clasificador random forest:')\n",
    "print('Cross validation promedio: ', format(scores1_22.mean(), '.3f'))\n",
    "print('Cross validation std:      ', format(scores1_22.std(), '.3f'))\n",
    "print(\"Accuracy:\", metrics.accuracy_score(y_test_22, rfc_predict_22))\n",
    "print(\"Balanced accuracy:\", metrics.balanced_accuracy_score(y_test_22, rfc_predict_22))\n",
    "\n",
    "#clases_22 = df_22['Clases'].unique()\n",
    "#matriz de confusión \n",
    "plot_confusion_matrix2(y_test_22, rfc_predict_22, classes=clases_22, normalize = True,\n",
    "                      title='Matriz de confusión BalancedRandomForest FATS features')\n",
    "print('Tiempo que toma correrlo:')\n",
    "end = timer()\n",
    "print(end - start)"
   ]
  },
  {
   "cell_type": "markdown",
   "metadata": {},
   "source": [
    "# Clasificación con atributos all-detection para 190mil objetos"
   ]
  },
  {
   "cell_type": "markdown",
   "metadata": {
    "id": "urgyf1TlLwlV"
   },
   "source": [
    "Ahora se realiza la predicción con la máxima cantidad de objetos (190.000) para clasificar en las 3 clases generales para atributos **all-detection**, como se utilizan todos los datos, es necesario usar el clasificador BalancedRandomForest"
   ]
  },
  {
   "cell_type": "code",
   "execution_count": null,
   "metadata": {
    "id": "rxSQG92WLwlW",
    "outputId": "cc4a11b5-44c0-4918-87f6-2b4eafd4a27c"
   },
   "outputs": [
    {
     "data": {
      "text/plain": [
       "{'Periodic': 0, 'Stochastic': 1, 'Transient': 2}"
      ]
     },
     "execution_count": 25,
     "metadata": {
      "tags": []
     },
     "output_type": "execute_result"
    }
   ],
   "source": [
    "#Se definen nuevamente las clases como números para luego definir los arreglos\n",
    "clases_alldetection_all = df_alldetection_pre['Clases'].unique()\n",
    "\n",
    "mapa_alldetection_all = {}\n",
    "\n",
    "for clase, i in enumerate(clases_alldetection_all):\n",
    "    mapa_alldetection_all[i] = clase\n",
    "mapa_alldetection_all"
   ]
  },
  {
   "cell_type": "markdown",
   "metadata": {
    "id": "QLW62udLwMuM"
   },
   "source": [
    "Se realiza la clasificación para 190000 objetos con atributos all-detection considerando el tiempo que se demora en correr, accuracy y cross validation."
   ]
  },
  {
   "cell_type": "code",
   "execution_count": null,
   "metadata": {
    "id": "d9tVVdEoLwlW",
    "outputId": "a9fd49b5-82cc-4c96-9a21-da0d201c6226"
   },
   "outputs": [
    {
     "name": "stdout",
     "output_type": "stream",
     "text": [
      "Para el clasificador BalancedRandomForest:\n",
      "Cross validation promedio:  0.942\n",
      "Cross validation std:       0.001\n",
      "Accuracy: 0.9381929399770613\n",
      "Balanced accuracy: 0.9294773138898814\n",
      "Matriz de confusion normalizada\n",
      "[[0.95102764 0.04640088 0.00257148]\n",
      " [0.11678832 0.870013   0.01319868]\n",
      " [0.00362319 0.02898551 0.9673913 ]]\n",
      "Tiempo que toma correrolo:\n",
      "71.18527407600004\n"
     ]
    },
    {
     "data": {
      "image/png": "[encoded data removed]",
      "text/plain": [
       "<Figure size 576x576 with 2 Axes>"
      ]
     },
     "metadata": {
      "needs_background": "light",
      "tags": []
     },
     "output_type": "display_data"
    }
   ],
   "source": [
    "# creación de los arreglos de atributos y clases\n",
    "\n",
    "start = timer()\n",
    "\n",
    "X_alldetection_all = df_alldetection_pre.drop(['objectId', 'predicted_class',\"Clases\"], axis=1)\n",
    "y_alldetection_all = np.array(df_alldetection_pre['Clases'].map(mapa_alldetection_all))\n",
    "\n",
    "# separación en testeo y prueba\n",
    "X_train_alldetection_all, X_test_alldetection_all, y_train_alldetection_all, y_test_alldetection_all = train_test_split(X_alldetection_all, y_alldetection_all, test_size=0.33, random_state=66)\n",
    "\n",
    "# se llama al clasificador BalancedRandomForest\n",
    "rfc_alldetection_all = BalancedRandomForestClassifier() \n",
    "# entrenamiento del modelo\n",
    "rfc_alldetection_all.fit(X_train_alldetection_all,y_train_alldetection_all)\n",
    "# predicciones\n",
    "rfc_predict_alldetection_all = rfc_alldetection_all.predict(X_test_alldetection_all)\n",
    "\n",
    "#cross value\n",
    "scores1_alldetection_all = cross_val_score(rfc_alldetection_all, X_alldetection_all, y_alldetection_all, cv=4, scoring='accuracy')\n",
    "print('Para el clasificador BalancedRandomForest:')\n",
    "print('Cross validation promedio: ', format(scores1_alldetection_all.mean(), '.3f'))\n",
    "print('Cross validation std:      ', format(scores1_alldetection_all.std(), '.3f'))\n",
    "print(\"Accuracy:\", metrics.accuracy_score(y_test_alldetection_all, rfc_predict_alldetection_all))\n",
    "print(\"Balanced accuracy:\", metrics.balanced_accuracy_score(y_test_alldetection_all, rfc_predict_alldetection_all))\n",
    "\n",
    "#clases_alldetection_all = df_alldetection_all['Clases'].unique()\n",
    "#matriz de confusión \n",
    "plot_confusion_matrix2(y_test_alldetection_all, rfc_predict_alldetection_all, classes=clases_alldetection_all, normalize = True,\n",
    "                      title='Matriz de confusión BalancedRandomForest all features')\n",
    "\n",
    "print('Tiempo que toma correrlo:')\n",
    "end = timer()\n",
    "print(end - start)"
   ]
  },
  {
   "cell_type": "markdown",
   "metadata": {
    "id": "7qCNRKs6waug"
   },
   "source": [
    "De la clasificación con atributos all-detection, se utiliza la función feature_importances para definir la importancia de los atributos en la clasificación realizada."
   ]
  },
  {
   "cell_type": "code",
   "execution_count": null,
   "metadata": {
    "id": "Pfc7GBGALwlW",
    "outputId": "6257d280-e087-4f82-a256-75ce36d988e7",
    "scrolled": true
   },
   "outputs": [
    {
     "name": "stdout",
     "output_type": "stream",
     "text": [
      "['SPM_tau_rise_2', 'SPM_tau_rise_1', 'LinearTrend_1', 'positive_fraction_1', 'SPM_chi_2', 'n_non_det_after_fid_2', 'SPM_A_2', 'LinearTrend_2', 'dmag_non_det_fid_2', 'SPM_beta_1', 'SPM_t0_1', 'dmag_first_det_fid_2', 'SPM_tau_fall_1', 'SPM_tau_fall_2', 'positive_fraction_2', 'g-r_mean', 'SPM_beta_2', 'ExcessVar_2', 'SPM_chi_1', 'Pvar_2', 'IAR_phi_1', 'n_non_det_after_fid_1', 'ExcessVar_1', 'MHPS_low_2', 'dmag_non_det_fid_1', 'SPM_t0_2', 'g-r_mean_corr', 'Rcs_2', 'SF_ML_amplitude_1', 'max_diffmaglim_after_fid_2', 'MHPS_high_2', 'Meanvariance_2', 'Power_rate_4', 'g-r_max_corr', 'Meanvariance_1', 'Power_rate_3', 'Rcs_1', 'GP_DRW_sigma_2', 'SPM_A_1', 'GP_DRW_tau_1', 'Amplitude_2', 'IAR_phi_2', 'GP_DRW_sigma_1', 'MHPS_high_1', 'Pvar_1', 'Std_2', 'MHPS_low_1', 'Power_rate_1/2', 'SF_ML_amplitude_2', 'PercentAmplitude_1', 'Q31_1', 'Amplitude_1', 'Std_1', 'GP_DRW_tau_2', 'Harmonics_mse_1', 'Multiband_period', 'Psi_CS_2', 'Power_rate_2', 'median_diffmaglim_after_fid_1', 'PPE', 'SF_ML_gamma_2', 'SF_ML_gamma_1', 'Power_rate_1/4', 'SPM_gamma_1', 'SPM_gamma_2', 'Psi_CS_1', 'median_diffmaglim_after_fid_2', 'max_diffmaglim_after_fid_1', 'Harmonics_mse_2', 'Psi_eta_2', 'PercentAmplitude_2', 'MedianAbsDev_1', 'Psi_eta_1', 'MHPS_ratio_1', 'MedianAbsDev_2', 'AndersonDarling_1', 'Harmonics_mag_4_1', 'StetsonK_1', 'Eta_e_1', 'Power_rate_1/3', 'n_non_det_before_fid_1', 'Skew_2', 'Autocor_length_2', 'max_diffmaglim_before_fid_1', 'Harmonics_mag_1_2', 'Gskew_2', 'Autocor_length_1', 'Harmonics_mag_4_2', 'Harmonics_mag_7_1', 'Harmonics_mag_1_1', 'Eta_e_2', 'Harmonics_phase_2_1', 'Gskew_1', 'Q31_2', 'SmallKurtosis_2', 'Harmonics_phase_7_2', 'AndersonDarling_2', 'MaxSlope_2', 'MaxSlope_1', 'MHPS_ratio_2', 'delta_period_2', 'StetsonK_2', 'MHPS_non_zero_1', 'Harmonics_phase_2_2', 'MedianBRP_1', 'Harmonics_mag_3_1', 'SmallKurtosis_1', 'last_diffmaglim_before_fid_2', 'Harmonics_mag_6_1', 'n_non_det_before_fid_2', 'MHPS_non_zero_2', 'Harmonics_mag_2_2', 'Harmonics_mag_5_1', 'Harmonics_mag_2_1', 'MedianBRP_2', 'Harmonics_phase_3_1', 'Harmonics_phase_5_1', 'Harmonics_phase_4_2', 'max_diffmaglim_before_fid_2', 'Harmonics_phase_5_2', 'median_diffmaglim_before_fid_2', 'Harmonics_phase_6_1', 'Skew_1', 'Harmonics_phase_7_1', 'Harmonics_phase_6_2', 'Harmonics_mag_7_2', 'median_diffmaglim_before_fid_1', 'PairSlopeTrend_1', 'Harmonics_phase_4_1', 'last_diffmaglim_before_fid_1', 'Harmonics_mag_5_2', 'Harmonics_mag_3_2', 'Harmonics_phase_3_2', 'Harmonics_mag_6_2', 'PairSlopeTrend_2', 'MHPS_PN_flag_2', 'Con_1', 'Con_2', 'MHPS_PN_flag_1']\n"
     ]
    }
   ],
   "source": [
    "feature_importances = pd.DataFrame(rfc_alldetection_all.feature_importances_,\n",
    "                                   index = X_train_alldetection_all.columns,\n",
    "                                    columns=['importance']).sort_values('importance', ascending=False)\n",
    "\n",
    "hola = feature_importances.index.to_numpy().tolist()\n",
    "print(hola)"
   ]
  },
  {
   "cell_type": "code",
   "execution_count": null,
   "metadata": {
    "id": "mj6R_9oJLwlW",
    "outputId": "89524b7f-4a22-4487-ceb7-a36f87c071c8"
   },
   "outputs": [
    {
     "name": "stdout",
     "output_type": "stream",
     "text": [
      "53\n"
     ]
    }
   ],
   "source": [
    "mejores_atributos_3 = ['objectId', 'SPM_tau_rise_2', 'SPM_tau_rise_1', 'LinearTrend_1', 'positive_fraction_1', 'SPM_chi_2', 'n_non_det_after_fid_2', 'SPM_A_2', 'LinearTrend_2', 'dmag_non_det_fid_2', 'SPM_beta_1', 'SPM_t0_1', 'dmag_first_det_fid_2', 'SPM_tau_fall_1', 'SPM_tau_fall_2', 'positive_fraction_2', 'g-r_mean', 'SPM_beta_2', 'ExcessVar_2', 'SPM_chi_1', 'Pvar_2', 'IAR_phi_1', 'n_non_det_after_fid_1', 'ExcessVar_1', 'MHPS_low_2', \n",
    "                       'dmag_non_det_fid_1', 'SPM_t0_2', 'g-r_mean_corr', 'Rcs_2', 'SF_ML_amplitude_1', 'max_diffmaglim_after_fid_2', 'MHPS_high_2', 'Meanvariance_2', 'Power_rate_4', 'g-r_max_corr', 'Meanvariance_1', 'Power_rate_3', 'Rcs_1', 'GP_DRW_sigma_2', 'SPM_A_1', 'GP_DRW_tau_1', 'Amplitude_2', 'IAR_phi_2', 'GP_DRW_sigma_1', 'MHPS_high_1', 'Pvar_1', 'Std_2', 'MHPS_low_1', 'Power_rate_1/2', 'SF_ML_amplitude_2', 'PercentAmplitude_1', \"Clases\",'predicted_class']\n",
    "print(len(mejores_atributos_3))"
   ]
  },
  {
   "cell_type": "markdown",
   "metadata": {
    "id": "nPeWcVuMwxCE"
   },
   "source": [
    "Conociendo los mejores atributos, se realiza ahora la clasificación de los 190000 objetos considerando un DataFrame solo con estos 50 mejores atributos"
   ]
  },
  {
   "cell_type": "code",
   "execution_count": null,
   "metadata": {
    "id": "EJqv5IGoLwlW"
   },
   "outputs": [],
   "source": [
    "#Se define el DataFrame que se usará en la clasificación\n",
    "df_mejores_atributos_3 = df_alldetection_pre.copy()\n",
    "df_mejores_atributos_3 = df_mejores_atributos_3[mejores_atributos_3]\n",
    "print(df_mejores_atributos_3.shape)\n",
    "df_mejores_atributos_3.head()"
   ]
  },
  {
   "cell_type": "code",
   "execution_count": null,
   "metadata": {
    "id": "gY4LSlGMLwlX",
    "outputId": "f9eef603-e2b8-4958-c7a3-d19e9deb040d"
   },
   "outputs": [
    {
     "name": "stdout",
     "output_type": "stream",
     "text": [
      "Para el clasificador BalancedRandomForest:\n",
      "Cross validation promedio:  0.941\n",
      "Cross validation std:       0.001\n",
      "Accuracy: 0.9349592200841086\n",
      "Balanced accuracy: 0.9260014855519959\n",
      "Matriz de confusion normalizada\n",
      "[[0.94704661 0.05089621 0.00205718]\n",
      " [0.11528847 0.87081292 0.01389861]\n",
      " [0.         0.03985507 0.96014493]]\n",
      "Tiempo que toma correrlo:\n",
      "55.040676295000594\n"
     ]
    },
    {
     "data": {
      "image/png": "[encoded data removed]",
      "text/plain": [
       "<Figure size 576x576 with 2 Axes>"
      ]
     },
     "metadata": {
      "needs_background": "light",
      "tags": []
     },
     "output_type": "display_data"
    }
   ],
   "source": [
    "# creación de los arreglos de atributos y clases\n",
    "\n",
    "start = timer()\n",
    "\n",
    "X_mejores_atributos_3 = df_mejores_atributos_3.drop(['objectId', 'predicted_class',\"Clases\"], axis=1)\n",
    "y_mejores_atributos_3 = np.array(df_mejores_atributos_3['Clases'].map(mapa_alldetection_all))\n",
    "\n",
    "# separación en testeo y prueba\n",
    "X_train_mejores_atributos_3, X_test_mejores_atributos_3, y_train_mejores_atributos_3, y_test_mejores_atributos_3 = train_test_split(X_mejores_atributos_3, y_mejores_atributos_3, test_size=0.33, random_state=66)\n",
    "\n",
    "# se llama al clasificador\n",
    "rfc_mejores_atributos_3 = BalancedRandomForestClassifier() \n",
    "# entrenamiento del modelo\n",
    "rfc_mejores_atributos_3.fit(X_train_mejores_atributos_3,y_train_mejores_atributos_3)\n",
    "# predicciones\n",
    "rfc_predict_mejores_atributos_3 = rfc_mejores_atributos_3.predict(X_test_mejores_atributos_3)\n",
    "\n",
    "#cross value\n",
    "scores1_mejores_atributos_3 = cross_val_score(rfc_mejores_atributos_3, X_mejores_atributos_3, y_mejores_atributos_3, cv=4, scoring='accuracy')\n",
    "print('Para el clasificador BalancedRandomForest:')\n",
    "print('Cross validation promedio: ', format(scores1_mejores_atributos_3.mean(), '.3f'))\n",
    "print('Cross validation std:      ', format(scores1_mejores_atributos_3.std(), '.3f'))\n",
    "print(\"Accuracy:\", metrics.accuracy_score(y_test_mejores_atributos_3, rfc_predict_mejores_atributos_3))\n",
    "print(\"Balanced accuracy:\", metrics.balanced_accuracy_score(y_test_mejores_atributos_3, rfc_predict_mejores_atributos_3))\n",
    "\n",
    "#clases_mejores_atributos_3 = df_mejores_atributos_3['Clases'].unique()\n",
    "#matriz de confusión \n",
    "plot_confusion_matrix2(y_test_mejores_atributos_3, rfc_predict_mejores_atributos_3, classes=clases_alldetection_all, normalize = True,\n",
    "                      title='Matriz de confusión BalancedRandomForest mejores features')\n",
    "\n",
    "print('Tiempo que toma correrlo:')\n",
    "end = timer()\n",
    "print(end - start)"
   ]
  },
  {
   "cell_type": "markdown",
   "metadata": {
    "id": "wzN_QIGbLwlX"
   },
   "source": [
    "# Clasificación para las 15 clases"
   ]
  },
  {
   "cell_type": "markdown",
   "metadata": {
    "id": "-b6krAUgxC8-"
   },
   "source": [
    "##Se realiza nuevamente la clasificación de los 190000 objetos, pero esta vez para las 15 clases que se tenían originalmente. Se usarán los mismos grupos de atributos: all-detection, FATS y los 50 mejores de la clasificación con all-detection. Ya que las clases no están balanceadas, se usará el clasificador BalancedRandomForest"
   ]
  },
  {
   "cell_type": "code",
   "execution_count": null,
   "metadata": {
    "id": "RJCTfJjJ5cUn",
    "outputId": "c0b8d716-ff16-4069-ae82-b916d27f9d8d"
   },
   "outputs": [
    {
     "name": "stdout",
     "output_type": "stream",
     "text": [
      "(190230, 142)\n"
     ]
    },
    {
     "data": {
      "text/html": [
       "<div>\n",
       "<style scoped>\n",
       "    .dataframe tbody tr th:only-of-type {\n",
       "        vertical-align: middle;\n",
       "    }\n",
       "\n",
       "    .dataframe tbody tr th {\n",
       "        vertical-align: top;\n",
       "    }\n",
       "\n",
       "    .dataframe thead th {\n",
       "        text-align: right;\n",
       "    }\n",
       "</style>\n",
       "<table border=\"1\" class=\"dataframe\">\n",
       "  <thead>\n",
       "    <tr style=\"text-align: right;\">\n",
       "      <th></th>\n",
       "      <th>objectId</th>\n",
       "      <th>delta_period_2</th>\n",
       "      <th>IAR_phi_1</th>\n",
       "      <th>IAR_phi_2</th>\n",
       "      <th>MHPS_PN_flag_1</th>\n",
       "      <th>MHPS_PN_flag_2</th>\n",
       "      <th>MHPS_high_1</th>\n",
       "      <th>MHPS_high_2</th>\n",
       "      <th>MHPS_low_1</th>\n",
       "      <th>MHPS_low_2</th>\n",
       "      <th>...</th>\n",
       "      <th>max_diffmaglim_after_fid_1</th>\n",
       "      <th>max_diffmaglim_after_fid_2</th>\n",
       "      <th>median_diffmaglim_after_fid_1</th>\n",
       "      <th>median_diffmaglim_after_fid_2</th>\n",
       "      <th>median_diffmaglim_before_fid_1</th>\n",
       "      <th>median_diffmaglim_before_fid_2</th>\n",
       "      <th>n_non_det_after_fid_1</th>\n",
       "      <th>n_non_det_after_fid_2</th>\n",
       "      <th>n_non_det_before_fid_1</th>\n",
       "      <th>n_non_det_before_fid_2</th>\n",
       "    </tr>\n",
       "  </thead>\n",
       "  <tbody>\n",
       "    <tr>\n",
       "      <th>0</th>\n",
       "      <td>ZTF17aaaaavn</td>\n",
       "      <td>0.489561</td>\n",
       "      <td>9.986089e-01</td>\n",
       "      <td>4.230063e-13</td>\n",
       "      <td>0.0</td>\n",
       "      <td>0.0</td>\n",
       "      <td>0.104758</td>\n",
       "      <td>0.021977</td>\n",
       "      <td>5.156645</td>\n",
       "      <td>0.242537</td>\n",
       "      <td>...</td>\n",
       "      <td>21.125200</td>\n",
       "      <td>21.026400</td>\n",
       "      <td>20.535049</td>\n",
       "      <td>20.421249</td>\n",
       "      <td>20.601999</td>\n",
       "      <td>20.340149</td>\n",
       "      <td>272.0</td>\n",
       "      <td>284.0</td>\n",
       "      <td>9.0</td>\n",
       "      <td>34.0</td>\n",
       "    </tr>\n",
       "    <tr>\n",
       "      <th>6</th>\n",
       "      <td>ZTF17aaabbhy</td>\n",
       "      <td>0.002991</td>\n",
       "      <td>2.052784e-03</td>\n",
       "      <td>4.798818e-13</td>\n",
       "      <td>0.0</td>\n",
       "      <td>0.0</td>\n",
       "      <td>0.000614</td>\n",
       "      <td>0.000755</td>\n",
       "      <td>0.005311</td>\n",
       "      <td>0.002333</td>\n",
       "      <td>...</td>\n",
       "      <td>21.060301</td>\n",
       "      <td>21.026400</td>\n",
       "      <td>20.446699</td>\n",
       "      <td>20.355101</td>\n",
       "      <td>20.719200</td>\n",
       "      <td>19.536400</td>\n",
       "      <td>253.0</td>\n",
       "      <td>413.0</td>\n",
       "      <td>7.0</td>\n",
       "      <td>2.0</td>\n",
       "    </tr>\n",
       "    <tr>\n",
       "      <th>7</th>\n",
       "      <td>ZTF17aaabmwq</td>\n",
       "      <td>0.316716</td>\n",
       "      <td>2.746699e-06</td>\n",
       "      <td>1.177661e-11</td>\n",
       "      <td>0.0</td>\n",
       "      <td>0.0</td>\n",
       "      <td>0.016888</td>\n",
       "      <td>0.001562</td>\n",
       "      <td>0.033616</td>\n",
       "      <td>0.023678</td>\n",
       "      <td>...</td>\n",
       "      <td>20.891899</td>\n",
       "      <td>20.830299</td>\n",
       "      <td>20.007151</td>\n",
       "      <td>19.990900</td>\n",
       "      <td>20.387400</td>\n",
       "      <td>20.629299</td>\n",
       "      <td>164.0</td>\n",
       "      <td>229.0</td>\n",
       "      <td>13.0</td>\n",
       "      <td>3.0</td>\n",
       "    </tr>\n",
       "    <tr>\n",
       "      <th>8</th>\n",
       "      <td>ZTF17aaabrhj</td>\n",
       "      <td>0.037156</td>\n",
       "      <td>4.230063e-13</td>\n",
       "      <td>4.230063e-13</td>\n",
       "      <td>0.0</td>\n",
       "      <td>0.0</td>\n",
       "      <td>0.000869</td>\n",
       "      <td>0.000297</td>\n",
       "      <td>0.246175</td>\n",
       "      <td>0.092951</td>\n",
       "      <td>...</td>\n",
       "      <td>21.163799</td>\n",
       "      <td>20.973600</td>\n",
       "      <td>20.368900</td>\n",
       "      <td>20.390699</td>\n",
       "      <td>20.253401</td>\n",
       "      <td>20.164301</td>\n",
       "      <td>219.0</td>\n",
       "      <td>229.0</td>\n",
       "      <td>21.0</td>\n",
       "      <td>3.0</td>\n",
       "    </tr>\n",
       "    <tr>\n",
       "      <th>9</th>\n",
       "      <td>ZTF17aaabxwz</td>\n",
       "      <td>0.000003</td>\n",
       "      <td>2.136414e-01</td>\n",
       "      <td>6.582883e-01</td>\n",
       "      <td>0.0</td>\n",
       "      <td>0.0</td>\n",
       "      <td>0.120007</td>\n",
       "      <td>0.025479</td>\n",
       "      <td>1.066551</td>\n",
       "      <td>0.328515</td>\n",
       "      <td>...</td>\n",
       "      <td>20.722799</td>\n",
       "      <td>20.691601</td>\n",
       "      <td>19.900801</td>\n",
       "      <td>19.712151</td>\n",
       "      <td>20.086700</td>\n",
       "      <td>20.283100</td>\n",
       "      <td>143.0</td>\n",
       "      <td>118.0</td>\n",
       "      <td>2.0</td>\n",
       "      <td>7.0</td>\n",
       "    </tr>\n",
       "  </tbody>\n",
       "</table>\n",
       "<p>5 rows × 142 columns</p>\n",
       "</div>"
      ],
      "text/plain": [
       "       objectId  delta_period_2     IAR_phi_1     IAR_phi_2  MHPS_PN_flag_1  \\\n",
       "0  ZTF17aaaaavn        0.489561  9.986089e-01  4.230063e-13             0.0   \n",
       "6  ZTF17aaabbhy        0.002991  2.052784e-03  4.798818e-13             0.0   \n",
       "7  ZTF17aaabmwq        0.316716  2.746699e-06  1.177661e-11             0.0   \n",
       "8  ZTF17aaabrhj        0.037156  4.230063e-13  4.230063e-13             0.0   \n",
       "9  ZTF17aaabxwz        0.000003  2.136414e-01  6.582883e-01             0.0   \n",
       "\n",
       "   MHPS_PN_flag_2  MHPS_high_1  MHPS_high_2  MHPS_low_1  MHPS_low_2  ...  \\\n",
       "0             0.0     0.104758     0.021977    5.156645    0.242537  ...   \n",
       "6             0.0     0.000614     0.000755    0.005311    0.002333  ...   \n",
       "7             0.0     0.016888     0.001562    0.033616    0.023678  ...   \n",
       "8             0.0     0.000869     0.000297    0.246175    0.092951  ...   \n",
       "9             0.0     0.120007     0.025479    1.066551    0.328515  ...   \n",
       "\n",
       "   max_diffmaglim_after_fid_1  max_diffmaglim_after_fid_2  \\\n",
       "0                   21.125200                   21.026400   \n",
       "6                   21.060301                   21.026400   \n",
       "7                   20.891899                   20.830299   \n",
       "8                   21.163799                   20.973600   \n",
       "9                   20.722799                   20.691601   \n",
       "\n",
       "   median_diffmaglim_after_fid_1  median_diffmaglim_after_fid_2  \\\n",
       "0                      20.535049                      20.421249   \n",
       "6                      20.446699                      20.355101   \n",
       "7                      20.007151                      19.990900   \n",
       "8                      20.368900                      20.390699   \n",
       "9                      19.900801                      19.712151   \n",
       "\n",
       "   median_diffmaglim_before_fid_1  median_diffmaglim_before_fid_2  \\\n",
       "0                       20.601999                       20.340149   \n",
       "6                       20.719200                       19.536400   \n",
       "7                       20.387400                       20.629299   \n",
       "8                       20.253401                       20.164301   \n",
       "9                       20.086700                       20.283100   \n",
       "\n",
       "   n_non_det_after_fid_1  n_non_det_after_fid_2  n_non_det_before_fid_1  \\\n",
       "0                  272.0                  284.0                     9.0   \n",
       "6                  253.0                  413.0                     7.0   \n",
       "7                  164.0                  229.0                    13.0   \n",
       "8                  219.0                  229.0                    21.0   \n",
       "9                  143.0                  118.0                     2.0   \n",
       "\n",
       "   n_non_det_before_fid_2  \n",
       "0                    34.0  \n",
       "6                     2.0  \n",
       "7                     3.0  \n",
       "8                     3.0  \n",
       "9                     7.0  \n",
       "\n",
       "[5 rows x 142 columns]"
      ]
     },
     "execution_count": 37,
     "metadata": {
      "tags": []
     },
     "output_type": "execute_result"
    }
   ],
   "source": [
    "# Se define el DataFrame con columnas all-detection \n",
    "df_15features_pre = dfo.copy()\n",
    "df_15features = df_15features_pre[columnas_alldetection].dropna()\n",
    "print(df_15features.shape)\n",
    "df_15features.head()\n"
   ]
  },
  {
   "cell_type": "markdown",
   "metadata": {
    "id": "wdgFRv-_xtky"
   },
   "source": [
    "Se hace un histograma para conocer la cantidad de objetos que hay por cada una de las 15 clases"
   ]
  },
  {
   "cell_type": "code",
   "execution_count": null,
   "metadata": {
    "id": "Bupvg8KVLwlX"
   },
   "outputs": [],
   "source": [
    "\n",
    "print(df_15features.groupby(['predicted_class']).count()['objectId'])\n",
    "# plot data\n",
    "fig, ax = plt.subplots(figsize=(15,7))\n",
    "# use unstack()\n",
    "df_15features.groupby(['Clases']).count()['objectId'].plot(kind='barh', color = 'mediumpurple')\n",
    "ax.set_title('Histograma cantidad de objetos pertenecientes a las clases')\n",
    "ax.set_xlabel('Frecuencia')\n",
    "ax.set_ylabel('Clases')"
   ]
  },
  {
   "cell_type": "code",
   "execution_count": null,
   "metadata": {
    "id": "DHZiK3sGLwlX",
    "outputId": "edf594db-6a9c-4f72-bdc1-e56aa649e599"
   },
   "outputs": [
    {
     "data": {
      "text/plain": [
       "{'Periodic-Other': 0,\n",
       " 'E': 1,\n",
       " 'CV/Nova': 2,\n",
       " 'CEP': 3,\n",
       " 'LPV': 4,\n",
       " 'YSO': 5,\n",
       " 'RRL': 6,\n",
       " 'DSCT': 7,\n",
       " 'QSO': 8,\n",
       " 'Blazar': 9,\n",
       " 'AGN': 10,\n",
       " 'SNII': 11,\n",
       " 'SNIa': 12,\n",
       " 'SNIbc': 13,\n",
       " 'SLSN': 14}"
      ]
     },
     "execution_count": 38,
     "metadata": {
      "tags": []
     },
     "output_type": "execute_result"
    }
   ],
   "source": [
    "#A cada una de las 15 clases se le asigna un número para facilitar la definición de los arreglos necesarios para hacer las clasificaciones \n",
    "clases_15features = df_15features['predicted_class'].unique()\n",
    "\n",
    "mapa_15features = {}\n",
    "\n",
    "for clase, i in enumerate(clases_15features):\n",
    "    mapa_15features[i] = clase\n",
    "mapa_15features"
   ]
  },
  {
   "cell_type": "code",
   "execution_count": null,
   "metadata": {
    "id": "itX3xJUzLwlX"
   },
   "outputs": [],
   "source": [
    "df_15features_sample = df_15features.copy().sample(n=190230)"
   ]
  },
  {
   "cell_type": "markdown",
   "metadata": {
    "id": "vBNb2CyVyKDG"
   },
   "source": [
    "Se realiza la clasificación para ls 15 clases con los atributos all-detection, considerando el tiempo que se demora en correr, accuracy y cross validaton. "
   ]
  },
  {
   "cell_type": "code",
   "execution_count": null,
   "metadata": {
    "id": "YPGLQ97XLwlY",
    "outputId": "b9d926ba-2c60-48ca-faf9-d24dfef4fe00"
   },
   "outputs": [
    {
     "name": "stdout",
     "output_type": "stream",
     "text": [
      "Para el clasificador random forest:\n",
      "Cross validation promedio:  0.771\n",
      "Cross validation std:       0.001\n",
      "Accuracy: 0.7646871415827705\n",
      "Balanced accuracy: 0.7316969967771623\n",
      "Matriz de confusion normalizada\n",
      "[[7.81894966e-01 8.01035352e-02 1.36230502e-04 2.24099176e-02\n",
      "  2.43852599e-02 7.17253593e-02 5.44922008e-04 4.08691506e-03\n",
      "  2.11157278e-03 2.38403379e-03 1.00129419e-02 0.00000000e+00\n",
      "  6.81152510e-05 1.36230502e-04 0.00000000e+00]\n",
      " [7.82881002e-02 6.56054280e-01 3.44467641e-03 6.83716075e-02\n",
      "  1.04384134e-04 2.41127349e-02 2.67745303e-02 1.34498956e-01\n",
      "  2.29645094e-03 1.72233820e-03 4.12317328e-03 0.00000000e+00\n",
      "  0.00000000e+00 1.04384134e-04 1.04384134e-04]\n",
      " [1.59151194e-02 7.95755968e-03 6.52519894e-01 6.63129973e-03\n",
      "  0.00000000e+00 1.72413793e-02 1.85676393e-02 1.98938992e-02\n",
      "  1.00795756e-01 9.28381963e-02 5.03978780e-02 5.30503979e-03\n",
      "  3.97877984e-03 5.30503979e-03 2.65251989e-03]\n",
      " [1.11111111e-02 1.72839506e-02 3.08641975e-02 8.49382716e-01\n",
      "  3.33333333e-02 1.60493827e-02 3.45679012e-02 6.17283951e-03\n",
      "  0.00000000e+00 1.23456790e-03 0.00000000e+00 0.00000000e+00\n",
      "  0.00000000e+00 0.00000000e+00 0.00000000e+00]\n",
      " [7.70603504e-03 0.00000000e+00 2.75794938e-03 7.21933809e-03\n",
      "  9.65768981e-01 1.51687216e-02 0.00000000e+00 0.00000000e+00\n",
      "  0.00000000e+00 1.62232317e-04 0.00000000e+00 3.24464633e-04\n",
      "  0.00000000e+00 6.48929267e-04 2.43348475e-04]\n",
      " [1.40145985e-01 2.67639903e-02 5.49878345e-02 8.46715328e-02\n",
      "  7.63990268e-02 5.90754258e-01 4.86618005e-03 1.94647202e-03\n",
      "  3.89294404e-03 4.86618005e-03 7.29927007e-03 9.73236010e-04\n",
      "  4.86618005e-04 1.45985401e-03 4.86618005e-04]\n",
      " [4.43458980e-04 3.59201774e-02 2.37250554e-02 4.70066519e-02\n",
      "  0.00000000e+00 1.37472284e-02 7.82039911e-01 8.55875831e-02\n",
      "  6.65188470e-04 5.98669623e-03 1.77383592e-03 6.65188470e-04\n",
      "  2.21729490e-04 2.21729490e-04 1.99556541e-03]\n",
      " [1.54004107e-02 4.20944559e-02 0.00000000e+00 4.10677618e-03\n",
      "  0.00000000e+00 0.00000000e+00 8.72689938e-02 8.30595483e-01\n",
      "  7.18685832e-03 3.08008214e-03 1.02669405e-02 0.00000000e+00\n",
      "  0.00000000e+00 0.00000000e+00 0.00000000e+00]\n",
      " [8.38926174e-04 0.00000000e+00 0.00000000e+00 0.00000000e+00\n",
      "  0.00000000e+00 0.00000000e+00 0.00000000e+00 4.19463087e-04\n",
      "  8.21098993e-01 6.43875839e-02 1.08011745e-01 4.19463087e-04\n",
      "  2.09731544e-04 0.00000000e+00 4.61409396e-03]\n",
      " [3.88349515e-02 6.93481276e-03 7.07350902e-02 8.32177531e-03\n",
      "  1.38696255e-03 5.54785021e-03 8.32177531e-03 1.38696255e-02\n",
      "  9.43134535e-02 5.56171983e-01 1.53952843e-01 6.93481276e-03\n",
      "  0.00000000e+00 1.38696255e-03 3.32871012e-02]\n",
      " [3.80681818e-02 5.68181818e-04 0.00000000e+00 0.00000000e+00\n",
      "  0.00000000e+00 6.25000000e-03 0.00000000e+00 5.11363636e-03\n",
      "  2.57386364e-01 2.05681818e-01 4.56818182e-01 3.40909091e-03\n",
      "  3.97727273e-03 2.84090909e-03 1.98863636e-02]\n",
      " [2.00000000e-02 0.00000000e+00 2.00000000e-02 0.00000000e+00\n",
      "  0.00000000e+00 0.00000000e+00 0.00000000e+00 0.00000000e+00\n",
      "  0.00000000e+00 0.00000000e+00 2.00000000e-02 7.60000000e-01\n",
      "  4.00000000e-02 0.00000000e+00 1.40000000e-01]\n",
      " [0.00000000e+00 0.00000000e+00 0.00000000e+00 0.00000000e+00\n",
      "  0.00000000e+00 0.00000000e+00 0.00000000e+00 0.00000000e+00\n",
      "  0.00000000e+00 0.00000000e+00 0.00000000e+00 4.54545455e-02\n",
      "  8.18181818e-01 1.36363636e-01 0.00000000e+00]\n",
      " [0.00000000e+00 0.00000000e+00 0.00000000e+00 0.00000000e+00\n",
      "  0.00000000e+00 0.00000000e+00 0.00000000e+00 0.00000000e+00\n",
      "  0.00000000e+00 0.00000000e+00 0.00000000e+00 1.92307692e-01\n",
      "  7.69230769e-02 7.30769231e-01 0.00000000e+00]\n",
      " [0.00000000e+00 0.00000000e+00 0.00000000e+00 0.00000000e+00\n",
      "  0.00000000e+00 0.00000000e+00 0.00000000e+00 0.00000000e+00\n",
      "  4.25531915e-02 4.25531915e-02 0.00000000e+00 1.27659574e-01\n",
      "  4.25531915e-02 2.12765957e-02 7.23404255e-01]]\n",
      "Tiempo que toma correrlo:\n",
      "86.72849740700008\n"
     ]
    },
    {
     "data": {
      "image/png": "[encoded data removed]",
      "text/plain": [
       "<Figure size 576x576 with 2 Axes>"
      ]
     },
     "metadata": {
      "needs_background": "light",
      "tags": []
     },
     "output_type": "display_data"
    }
   ],
   "source": [
    "start = timer()\n",
    "# creación de los arreglos de atributos y clases\n",
    "X_15features = df_15features_sample.drop(['objectId', \"Clases\",'predicted_class'], axis=1)\n",
    "y_15features = np.array(df_15features_sample['predicted_class'].map(mapa_15features))\n",
    "\n",
    "# separación en testeo y prueba\n",
    "X_train_15features, X_test_15features, y_train_15features, y_test_15features = train_test_split(X_15features, y_15features, test_size=0.33, random_state=66)\n",
    "\n",
    "# se llama al clasificador\n",
    "rfc_15features = BalancedRandomForestClassifier() \n",
    "# entrenamiento del modelo\n",
    "rfc_15features.fit(X_train_15features,y_train_15features)\n",
    "# predicciones\n",
    "rfc_predict_15features = rfc_15features.predict(X_test_15features)\n",
    "\n",
    "#cross value\n",
    "scores1_15features = cross_val_score(rfc_15features, X_15features, y_15features, cv=4, scoring='accuracy')\n",
    "print('Para el clasificador random forest:')\n",
    "print('Cross validation promedio: ', format(scores1_15features.mean(), '.3f'))\n",
    "print('Cross validation std:      ', format(scores1_15features.std(), '.3f'))\n",
    "print(\"Accuracy:\", metrics.accuracy_score(y_test_15features, rfc_predict_15features))\n",
    "print(\"Balanced accuracy:\", metrics.balanced_accuracy_score(y_test_15features, rfc_predict_15features))\n",
    "\n",
    "\n",
    "#matriz de confusión \n",
    "plot_confusion_matrix(y_test_15features, rfc_predict_15features, classes=clases_15features, normalize = True,\n",
    "                      title='Matriz de confusión BalancedRandomForest all detection')\n",
    "print('Tiempo que toma correrlo:')\n",
    "end = timer()\n",
    "print(end - start)"
   ]
  },
  {
   "cell_type": "markdown",
   "metadata": {
    "id": "TDlCV2Vxydf_"
   },
   "source": [
    "Se definen los 50 atributos más importantes en la clasificación recién hecha"
   ]
  },
  {
   "cell_type": "code",
   "execution_count": null,
   "metadata": {
    "id": "Tjs70-i4LwlY",
    "outputId": "164175dd-fbaf-4ebe-ffe2-8e984a140b5c"
   },
   "outputs": [
    {
     "name": "stdout",
     "output_type": "stream",
     "text": [
      "['g-r_max_corr', 'g-r_mean_corr', 'g-r_mean', 'Multiband_period', 'IAR_phi_1', 'SPM_tau_rise_1', 'dmag_non_det_fid_2', 'Meanvariance_1', 'SPM_tau_rise_2', 'SPM_t0_1', 'SPM_A_2', 'Amplitude_1', 'IAR_phi_2', 'LinearTrend_1', 'Std_1', 'SPM_beta_1', 'ExcessVar_1', 'GP_DRW_tau_2', 'Meanvariance_2', 'PercentAmplitude_1', 'SPM_chi_2', 'SPM_tau_fall_1', 'Std_2', 'GP_DRW_sigma_1', 'dmag_first_det_fid_2', 'Q31_1', 'SPM_chi_1', 'Amplitude_2', 'n_non_det_after_fid_1', 'PercentAmplitude_2', 'SF_ML_amplitude_1', 'MHPS_high_2', 'MHPS_low_2', 'n_non_det_after_fid_2', 'SPM_A_1', 'ExcessVar_2', 'Rcs_1', 'GP_DRW_tau_1', 'SPM_beta_2', 'GP_DRW_sigma_2', 'MedianAbsDev_1', 'MHPS_low_1', 'positive_fraction_1', 'dmag_non_det_fid_1', 'SPM_tau_fall_2', 'Psi_eta_1', 'LinearTrend_2', 'SF_ML_gamma_1', 'MHPS_ratio_1', 'SPM_gamma_2', 'MedianAbsDev_2', 'SPM_t0_2', 'Rcs_2', 'PPE', 'Power_rate_1/2', 'SPM_gamma_1', 'Power_rate_1/4', 'Q31_2', 'MHPS_high_1', 'Power_rate_3', 'positive_fraction_2', 'Autocor_length_1', 'Psi_eta_2', 'Gskew_2', 'Harmonics_mse_2', 'Harmonics_mse_1', 'Power_rate_2', 'Pvar_2', 'MHPS_ratio_2', 'Skew_1', 'Gskew_1', 'Psi_CS_2', 'Power_rate_1/3', 'SF_ML_amplitude_2', 'max_diffmaglim_before_fid_1', 'Harmonics_mag_3_2', 'MaxSlope_1', 'median_diffmaglim_before_fid_1', 'AndersonDarling_1', 'Power_rate_4', 'StetsonK_1', 'Psi_CS_1', 'Pvar_1', 'Harmonics_phase_5_2', 'Harmonics_mag_7_1', 'last_diffmaglim_before_fid_2', 'Harmonics_mag_2_1', 'Eta_e_2', 'median_diffmaglim_after_fid_2', 'max_diffmaglim_before_fid_2', 'delta_period_2', 'SmallKurtosis_1', 'Harmonics_phase_2_2', 'Harmonics_phase_6_1', 'max_diffmaglim_after_fid_2', 'MedianBRP_1', 'Harmonics_mag_1_1', 'Eta_e_1', 'Skew_2', 'Harmonics_phase_3_1', 'StetsonK_2', 'median_diffmaglim_before_fid_2', 'n_non_det_before_fid_2', 'n_non_det_before_fid_1', 'Harmonics_mag_5_1', 'Harmonics_mag_3_1', 'max_diffmaglim_after_fid_1', 'MHPS_non_zero_2', 'Harmonics_phase_7_1', 'Harmonics_phase_2_1', 'Harmonics_phase_3_2', 'SmallKurtosis_2', 'last_diffmaglim_before_fid_1', 'MedianBRP_2', 'AndersonDarling_2', 'Harmonics_mag_5_2', 'SF_ML_gamma_2', 'MHPS_non_zero_1', 'Harmonics_mag_7_2', 'Harmonics_mag_6_1', 'median_diffmaglim_after_fid_1', 'MaxSlope_2', 'Harmonics_mag_4_2', 'Harmonics_mag_4_1', 'Harmonics_phase_7_2', 'Harmonics_mag_6_2', 'PairSlopeTrend_2', 'Harmonics_phase_4_2', 'Harmonics_mag_2_2', 'Harmonics_phase_6_2', 'Harmonics_phase_4_1', 'Harmonics_mag_1_2', 'Harmonics_phase_5_1', 'PairSlopeTrend_1', 'Autocor_length_2', 'MHPS_PN_flag_2', 'Con_2', 'Con_1', 'MHPS_PN_flag_1']\n"
     ]
    }
   ],
   "source": [
    "feature_importances15 = pd.DataFrame(rfc_15features.feature_importances_,\n",
    "                                   index = X_train_15features.columns,\n",
    "                                    columns=['importance']).sort_values('importance', ascending=False)\n",
    "\n",
    "hola15 = feature_importances15.index.to_numpy().tolist()\n",
    "print(hola15)"
   ]
  },
  {
   "cell_type": "code",
   "execution_count": null,
   "metadata": {
    "id": "gdazGMEULwlY",
    "outputId": "e067d5ff-f3d1-4b36-c391-1d9874e61e39"
   },
   "outputs": [
    {
     "name": "stdout",
     "output_type": "stream",
     "text": [
      "53\n"
     ]
    }
   ],
   "source": [
    "mejores_atributos_15 = ['objectId', 'g-r_max_corr', 'g-r_mean_corr', 'g-r_mean', 'Multiband_period', 'IAR_phi_1', 'SPM_tau_rise_1', 'dmag_non_det_fid_2', 'Meanvariance_1', 'SPM_tau_rise_2', 'SPM_t0_1', 'SPM_A_2', 'Amplitude_1', 'IAR_phi_2', 'LinearTrend_1', 'Std_1', 'SPM_beta_1', 'ExcessVar_1', 'GP_DRW_tau_2', 'Meanvariance_2', 'PercentAmplitude_1', 'SPM_chi_2', 'SPM_tau_fall_1', 'Std_2', 'GP_DRW_sigma_1', 'dmag_first_det_fid_2', 'Q31_1', 'SPM_chi_1', 'Amplitude_2', 'n_non_det_after_fid_1', 'PercentAmplitude_2', 'SF_ML_amplitude_1', 'MHPS_high_2', 'MHPS_low_2', 'n_non_det_after_fid_2', 'SPM_A_1', 'ExcessVar_2', 'Rcs_1', 'GP_DRW_tau_1', 'SPM_beta_2', 'GP_DRW_sigma_2', 'MedianAbsDev_1', 'MHPS_low_1', 'positive_fraction_1', 'dmag_non_det_fid_1', 'SPM_tau_fall_2', 'Psi_eta_1', 'LinearTrend_2', \n",
    "                        'SF_ML_gamma_1', 'MHPS_ratio_1', 'SPM_gamma_2',\"Clases\",'predicted_class']\n",
    "print(len(mejores_atributos_15))"
   ]
  },
  {
   "cell_type": "markdown",
   "metadata": {
    "id": "ezW-QMt_ykyn"
   },
   "source": [
    "Se crea un DataFrame con los 190000 objetos y 50 columnas con los mejores atributos obtenidos a partir de la clasificación con atributos all-detection"
   ]
  },
  {
   "cell_type": "code",
   "execution_count": null,
   "metadata": {
    "id": "2Zt3vyrFLwlY",
    "outputId": "01b63e28-e028-4f96-c36a-de828a3f2d61"
   },
   "outputs": [
    {
     "name": "stdout",
     "output_type": "stream",
     "text": [
      "(190230, 53)\n"
     ]
    },
    {
     "data": {
      "text/html": [
       "<div>\n",
       "<style scoped>\n",
       "    .dataframe tbody tr th:only-of-type {\n",
       "        vertical-align: middle;\n",
       "    }\n",
       "\n",
       "    .dataframe tbody tr th {\n",
       "        vertical-align: top;\n",
       "    }\n",
       "\n",
       "    .dataframe thead th {\n",
       "        text-align: right;\n",
       "    }\n",
       "</style>\n",
       "<table border=\"1\" class=\"dataframe\">\n",
       "  <thead>\n",
       "    <tr style=\"text-align: right;\">\n",
       "      <th></th>\n",
       "      <th>objectId</th>\n",
       "      <th>g-r_max_corr</th>\n",
       "      <th>g-r_mean_corr</th>\n",
       "      <th>g-r_mean</th>\n",
       "      <th>Multiband_period</th>\n",
       "      <th>IAR_phi_1</th>\n",
       "      <th>SPM_tau_rise_1</th>\n",
       "      <th>dmag_non_det_fid_2</th>\n",
       "      <th>Meanvariance_1</th>\n",
       "      <th>SPM_tau_rise_2</th>\n",
       "      <th>...</th>\n",
       "      <th>positive_fraction_1</th>\n",
       "      <th>dmag_non_det_fid_1</th>\n",
       "      <th>SPM_tau_fall_2</th>\n",
       "      <th>Psi_eta_1</th>\n",
       "      <th>LinearTrend_2</th>\n",
       "      <th>SF_ML_gamma_1</th>\n",
       "      <th>MHPS_ratio_1</th>\n",
       "      <th>SPM_gamma_2</th>\n",
       "      <th>Clases</th>\n",
       "      <th>predicted_class</th>\n",
       "    </tr>\n",
       "  </thead>\n",
       "  <tbody>\n",
       "    <tr>\n",
       "      <th>749485</th>\n",
       "      <td>ZTF19ablkohn</td>\n",
       "      <td>0.218885</td>\n",
       "      <td>0.329437</td>\n",
       "      <td>0.089129</td>\n",
       "      <td>0.085138</td>\n",
       "      <td>1.223783e-12</td>\n",
       "      <td>90.350388</td>\n",
       "      <td>4.122200</td>\n",
       "      <td>0.008247</td>\n",
       "      <td>86.297416</td>\n",
       "      <td>...</td>\n",
       "      <td>0.465116</td>\n",
       "      <td>3.759816</td>\n",
       "      <td>99.993383</td>\n",
       "      <td>0.148637</td>\n",
       "      <td>-0.000576</td>\n",
       "      <td>0.014753</td>\n",
       "      <td>1.851704</td>\n",
       "      <td>0.119808</td>\n",
       "      <td>Periodic</td>\n",
       "      <td>DSCT</td>\n",
       "    </tr>\n",
       "    <tr>\n",
       "      <th>237507</th>\n",
       "      <td>ZTF17aabuyie</td>\n",
       "      <td>0.150727</td>\n",
       "      <td>0.173488</td>\n",
       "      <td>0.099805</td>\n",
       "      <td>0.242836</td>\n",
       "      <td>8.764084e-03</td>\n",
       "      <td>100.000000</td>\n",
       "      <td>1.947544</td>\n",
       "      <td>0.009735</td>\n",
       "      <td>100.000000</td>\n",
       "      <td>...</td>\n",
       "      <td>0.358974</td>\n",
       "      <td>5.562267</td>\n",
       "      <td>99.112005</td>\n",
       "      <td>0.137409</td>\n",
       "      <td>-0.000128</td>\n",
       "      <td>-0.014371</td>\n",
       "      <td>0.811765</td>\n",
       "      <td>0.290584</td>\n",
       "      <td>Periodic</td>\n",
       "      <td>E</td>\n",
       "    </tr>\n",
       "    <tr>\n",
       "      <th>629819</th>\n",
       "      <td>ZTF18abmjaki</td>\n",
       "      <td>1.334324</td>\n",
       "      <td>1.341918</td>\n",
       "      <td>0.821513</td>\n",
       "      <td>0.101022</td>\n",
       "      <td>1.822784e-01</td>\n",
       "      <td>45.691076</td>\n",
       "      <td>2.723909</td>\n",
       "      <td>0.006030</td>\n",
       "      <td>50.117891</td>\n",
       "      <td>...</td>\n",
       "      <td>0.000000</td>\n",
       "      <td>1.511785</td>\n",
       "      <td>99.999970</td>\n",
       "      <td>1.118248</td>\n",
       "      <td>-0.000259</td>\n",
       "      <td>-0.129258</td>\n",
       "      <td>0.006911</td>\n",
       "      <td>0.151089</td>\n",
       "      <td>Periodic</td>\n",
       "      <td>E</td>\n",
       "    </tr>\n",
       "    <tr>\n",
       "      <th>533676</th>\n",
       "      <td>ZTF18aaztoen</td>\n",
       "      <td>0.427053</td>\n",
       "      <td>0.405017</td>\n",
       "      <td>0.512399</td>\n",
       "      <td>0.155707</td>\n",
       "      <td>9.120992e-01</td>\n",
       "      <td>98.819124</td>\n",
       "      <td>4.022480</td>\n",
       "      <td>0.013824</td>\n",
       "      <td>93.439484</td>\n",
       "      <td>...</td>\n",
       "      <td>0.031250</td>\n",
       "      <td>3.518426</td>\n",
       "      <td>99.993965</td>\n",
       "      <td>0.641120</td>\n",
       "      <td>0.000031</td>\n",
       "      <td>0.082579</td>\n",
       "      <td>584.053884</td>\n",
       "      <td>0.399239</td>\n",
       "      <td>Periodic</td>\n",
       "      <td>E</td>\n",
       "    </tr>\n",
       "    <tr>\n",
       "      <th>787832</th>\n",
       "      <td>ZTF18abakhaz</td>\n",
       "      <td>3.105903</td>\n",
       "      <td>3.041488</td>\n",
       "      <td>3.362750</td>\n",
       "      <td>0.998203</td>\n",
       "      <td>9.979299e-01</td>\n",
       "      <td>93.347315</td>\n",
       "      <td>5.879553</td>\n",
       "      <td>0.016943</td>\n",
       "      <td>100.000000</td>\n",
       "      <td>...</td>\n",
       "      <td>0.135922</td>\n",
       "      <td>2.980800</td>\n",
       "      <td>79.267071</td>\n",
       "      <td>0.677560</td>\n",
       "      <td>0.000766</td>\n",
       "      <td>0.872897</td>\n",
       "      <td>858.588475</td>\n",
       "      <td>0.251685</td>\n",
       "      <td>Periodic</td>\n",
       "      <td>LPV</td>\n",
       "    </tr>\n",
       "  </tbody>\n",
       "</table>\n",
       "<p>5 rows × 53 columns</p>\n",
       "</div>"
      ],
      "text/plain": [
       "            objectId  g-r_max_corr  g-r_mean_corr  g-r_mean  Multiband_period  \\\n",
       "749485  ZTF19ablkohn      0.218885       0.329437  0.089129          0.085138   \n",
       "237507  ZTF17aabuyie      0.150727       0.173488  0.099805          0.242836   \n",
       "629819  ZTF18abmjaki      1.334324       1.341918  0.821513          0.101022   \n",
       "533676  ZTF18aaztoen      0.427053       0.405017  0.512399          0.155707   \n",
       "787832  ZTF18abakhaz      3.105903       3.041488  3.362750          0.998203   \n",
       "\n",
       "           IAR_phi_1  SPM_tau_rise_1  dmag_non_det_fid_2  Meanvariance_1  \\\n",
       "749485  1.223783e-12       90.350388            4.122200        0.008247   \n",
       "237507  8.764084e-03      100.000000            1.947544        0.009735   \n",
       "629819  1.822784e-01       45.691076            2.723909        0.006030   \n",
       "533676  9.120992e-01       98.819124            4.022480        0.013824   \n",
       "787832  9.979299e-01       93.347315            5.879553        0.016943   \n",
       "\n",
       "        SPM_tau_rise_2  ...  positive_fraction_1  dmag_non_det_fid_1  \\\n",
       "749485       86.297416  ...             0.465116            3.759816   \n",
       "237507      100.000000  ...             0.358974            5.562267   \n",
       "629819       50.117891  ...             0.000000            1.511785   \n",
       "533676       93.439484  ...             0.031250            3.518426   \n",
       "787832      100.000000  ...             0.135922            2.980800   \n",
       "\n",
       "        SPM_tau_fall_2  Psi_eta_1  LinearTrend_2  SF_ML_gamma_1  MHPS_ratio_1  \\\n",
       "749485       99.993383   0.148637      -0.000576       0.014753      1.851704   \n",
       "237507       99.112005   0.137409      -0.000128      -0.014371      0.811765   \n",
       "629819       99.999970   1.118248      -0.000259      -0.129258      0.006911   \n",
       "533676       99.993965   0.641120       0.000031       0.082579    584.053884   \n",
       "787832       79.267071   0.677560       0.000766       0.872897    858.588475   \n",
       "\n",
       "        SPM_gamma_2    Clases  predicted_class  \n",
       "749485     0.119808  Periodic             DSCT  \n",
       "237507     0.290584  Periodic                E  \n",
       "629819     0.151089  Periodic                E  \n",
       "533676     0.399239  Periodic                E  \n",
       "787832     0.251685  Periodic              LPV  \n",
       "\n",
       "[5 rows x 53 columns]"
      ]
     },
     "execution_count": 63,
     "metadata": {
      "tags": []
     },
     "output_type": "execute_result"
    }
   ],
   "source": [
    "df_mejores_atributos_15 = df_15features_sample.copy()\n",
    "df_mejores_atributos_15 = df_mejores_atributos_15[mejores_atributos_15]\n",
    "print(df_mejores_atributos_15.shape)\n",
    "df_mejores_atributos_15.head()"
   ]
  },
  {
   "cell_type": "markdown",
   "metadata": {
    "id": "7mg6qABpy1Dm"
   },
   "source": [
    "Se realiza la clasificación con los 50 mejores atributos considerando el tiempo que se demora en correr, el accuracy y el cross validation."
   ]
  },
  {
   "cell_type": "code",
   "execution_count": null,
   "metadata": {
    "id": "gRlbnM35LwlY",
    "outputId": "e466aabf-2b72-42fb-cbf8-1325d9d5572a"
   },
   "outputs": [
    {
     "name": "stdout",
     "output_type": "stream",
     "text": [
      "Para el clasificador random forest:\n",
      "Cross validation promedio:  0.783\n",
      "Cross validation std:       0.008\n",
      "Accuracy: 0.7849496622913216\n",
      "Balanced accuracy: 0.7371056208487826\n",
      "Matriz de confusion normalizada\n",
      "[[7.87548532e-01 6.57993325e-02 3.40576255e-04 2.58156801e-02\n",
      "  2.58837954e-02 7.46543151e-02 1.36230502e-04 3.54199305e-03\n",
      "  6.13037259e-04 5.24487433e-03 9.74048089e-03 2.04345753e-04\n",
      "  0.00000000e+00 3.40576255e-04 1.36230502e-04]\n",
      " [6.53966597e-02 7.03288100e-01 4.17536534e-03 3.87265136e-02\n",
      "  0.00000000e+00 3.28810021e-02 3.57515658e-02 1.10177453e-01\n",
      "  1.25260960e-03 3.44467641e-03 4.64509395e-03 0.00000000e+00\n",
      "  0.00000000e+00 5.21920668e-05 2.08768267e-04]\n",
      " [2.65251989e-02 2.25464191e-02 6.41909814e-01 5.30503979e-03\n",
      "  0.00000000e+00 6.63129973e-03 3.05039788e-02 1.98938992e-02\n",
      "  6.36604775e-02 1.06100796e-01 5.96816976e-02 3.97877984e-03\n",
      "  0.00000000e+00 3.97877984e-03 9.28381963e-03]\n",
      " [4.93827160e-03 7.40740741e-03 4.69135802e-02 8.51851852e-01\n",
      "  2.46913580e-02 3.45679012e-02 2.09876543e-02 3.70370370e-03\n",
      "  0.00000000e+00 2.46913580e-03 0.00000000e+00 1.23456790e-03\n",
      "  0.00000000e+00 1.23456790e-03 0.00000000e+00]\n",
      " [4.05580792e-03 0.00000000e+00 2.02790396e-03 5.75924724e-03\n",
      "  9.60415315e-01 2.69305646e-02 0.00000000e+00 0.00000000e+00\n",
      "  0.00000000e+00 8.11161583e-05 0.00000000e+00 1.62232317e-04\n",
      "  0.00000000e+00 4.05580792e-04 1.62232317e-04]\n",
      " [1.19221411e-01 2.72506083e-02 4.76885645e-02 7.15328467e-02\n",
      "  5.25547445e-02 6.47201946e-01 1.50851582e-02 2.43309002e-03\n",
      "  1.45985401e-03 4.37956204e-03 4.86618005e-03 9.73236010e-04\n",
      "  0.00000000e+00 2.91970803e-03 2.43309002e-03]\n",
      " [4.43458980e-04 3.92461197e-02 2.15077605e-02 2.66075388e-02\n",
      "  0.00000000e+00 1.77383592e-02 8.07760532e-01 7.31707317e-02\n",
      "  0.00000000e+00 7.53880266e-03 3.99113082e-03 2.21729490e-04\n",
      "  0.00000000e+00 0.00000000e+00 1.77383592e-03]\n",
      " [1.12936345e-02 6.57084189e-02 0.00000000e+00 0.00000000e+00\n",
      "  0.00000000e+00 0.00000000e+00 4.92813142e-02 8.57289528e-01\n",
      "  6.16016427e-03 3.08008214e-03 7.18685832e-03 0.00000000e+00\n",
      "  0.00000000e+00 0.00000000e+00 0.00000000e+00]\n",
      " [6.29194631e-04 0.00000000e+00 6.29194631e-04 0.00000000e+00\n",
      "  0.00000000e+00 8.38926174e-04 0.00000000e+00 8.38926174e-04\n",
      "  8.21308725e-01 7.00503356e-02 9.54278523e-02 2.09731544e-04\n",
      "  4.19463087e-04 2.09731544e-04 9.43791946e-03]\n",
      " [2.63522885e-02 2.49653259e-02 6.24133148e-02 5.54785021e-03\n",
      "  1.38696255e-03 1.52565881e-02 1.66435506e-02 1.38696255e-02\n",
      "  6.79611650e-02 5.79750347e-01 1.45631068e-01 1.38696255e-03\n",
      "  0.00000000e+00 1.38696255e-03 3.74479889e-02]\n",
      " [4.09090909e-02 1.13636364e-03 0.00000000e+00 5.68181818e-04\n",
      "  0.00000000e+00 7.38636364e-03 0.00000000e+00 4.54545455e-03\n",
      "  2.01704545e-01 1.92613636e-01 5.06250000e-01 6.25000000e-03\n",
      "  2.84090909e-03 1.70454545e-03 3.40909091e-02]\n",
      " [2.00000000e-02 0.00000000e+00 2.00000000e-02 0.00000000e+00\n",
      "  0.00000000e+00 0.00000000e+00 4.00000000e-02 0.00000000e+00\n",
      "  2.00000000e-02 0.00000000e+00 0.00000000e+00 6.80000000e-01\n",
      "  8.00000000e-02 2.00000000e-02 1.20000000e-01]\n",
      " [0.00000000e+00 0.00000000e+00 0.00000000e+00 0.00000000e+00\n",
      "  0.00000000e+00 0.00000000e+00 0.00000000e+00 0.00000000e+00\n",
      "  0.00000000e+00 0.00000000e+00 0.00000000e+00 6.06060606e-02\n",
      "  8.25757576e-01 1.13636364e-01 0.00000000e+00]\n",
      " [0.00000000e+00 0.00000000e+00 0.00000000e+00 0.00000000e+00\n",
      "  0.00000000e+00 0.00000000e+00 0.00000000e+00 0.00000000e+00\n",
      "  0.00000000e+00 0.00000000e+00 0.00000000e+00 1.53846154e-01\n",
      "  7.69230769e-02 7.69230769e-01 0.00000000e+00]\n",
      " [0.00000000e+00 0.00000000e+00 0.00000000e+00 0.00000000e+00\n",
      "  0.00000000e+00 0.00000000e+00 2.12765957e-02 0.00000000e+00\n",
      "  6.38297872e-02 6.38297872e-02 0.00000000e+00 1.91489362e-01\n",
      "  4.25531915e-02 0.00000000e+00 6.17021277e-01]]\n",
      "Tiempo que toma correrlo:\n",
      "67.3565735229995\n"
     ]
    },
    {
     "data": {
      "image/png": "[encoded data removed]",
      "text/plain": [
       "<Figure size 576x576 with 2 Axes>"
      ]
     },
     "metadata": {
      "needs_background": "light",
      "tags": []
     },
     "output_type": "display_data"
    }
   ],
   "source": [
    "start = timer()\n",
    "# creación de los arreglos de atributos y clases\n",
    "X_mejores_atributos_15 = df_mejores_atributos_15.drop(['objectId', \"Clases\",'predicted_class'], axis=1)\n",
    "y_mejores_atributos_15 = np.array(df_mejores_atributos_15['predicted_class'].map(mapa_15features))\n",
    "\n",
    "# separación en testeo y prueba\n",
    "X_train_mejores_atributos_15, X_test_mejores_atributos_15, y_train_mejores_atributos_15, y_test_mejores_atributos_15 = train_test_split(X_mejores_atributos_15, y_mejores_atributos_15, test_size=0.33, random_state=66)\n",
    "\n",
    "# se llama al clasificador\n",
    "rfc_mejores_atributos_15 = BalancedRandomForestClassifier() \n",
    "# entrenamiento del modelo\n",
    "rfc_mejores_atributos_15.fit(X_train_mejores_atributos_15,y_train_mejores_atributos_15)\n",
    "# predicciones\n",
    "rfc_predict_mejores_atributos_15 = rfc_mejores_atributos_15.predict(X_test_mejores_atributos_15)\n",
    "\n",
    "#cross value\n",
    "scores1_mejores_atributos_15 = cross_val_score(rfc_mejores_atributos_15, X_mejores_atributos_15, y_mejores_atributos_15, cv=4, scoring='accuracy')\n",
    "print('Para el clasificador random forest:')\n",
    "print('Cross validation promedio: ', format(scores1_mejores_atributos_15.mean(), '.3f'))\n",
    "print('Cross validation std:      ', format(scores1_mejores_atributos_15.std(), '.3f'))\n",
    "print(\"Accuracy:\", metrics.accuracy_score(y_test_mejores_atributos_15, rfc_predict_mejores_atributos_15))\n",
    "print(\"Balanced accuracy:\", metrics.balanced_accuracy_score(y_test_mejores_atributos_15, rfc_predict_mejores_atributos_15))\n",
    "\n",
    "\n",
    "#matriz de confusión \n",
    "plot_confusion_matrix(y_test_mejores_atributos_15, rfc_predict_mejores_atributos_15, classes=clases_15features, normalize = True,\n",
    "                      title='Matriz de confusión BalancedRandomForest mejores features')\n",
    "print('Tiempo que toma correrlo:')\n",
    "end = timer()\n",
    "print(end - start)"
   ]
  },
  {
   "cell_type": "markdown",
   "metadata": {
    "id": "YQZaNpy-zFah"
   },
   "source": [
    "Se crea el DataFrame con los 42 atributos FATS "
   ]
  },
  {
   "cell_type": "code",
   "execution_count": null,
   "metadata": {
    "id": "X5lr7zvOLwlZ",
    "outputId": "2220abe2-ea60-4ab6-e1f9-4203c32baa7d"
   },
   "outputs": [
    {
     "name": "stdout",
     "output_type": "stream",
     "text": [
      "(190230, 44)\n"
     ]
    }
   ],
   "source": [
    "df_15features_FATS = df_22.copy().dropna()\n",
    "print(df_15features_FATS.shape)"
   ]
  },
  {
   "cell_type": "markdown",
   "metadata": {
    "id": "Jh9Vss06zbsx"
   },
   "source": [
    "Se hace la clasificación para los 190000 objetos usando los atributos FATS considerando el tiempo que se demora en correr, el accuracy y el cross validation."
   ]
  },
  {
   "cell_type": "code",
   "execution_count": null,
   "metadata": {
    "id": "6FuP3T8yLwlZ",
    "outputId": "63718802-147b-41c8-8bd1-d244ea2c6066"
   },
   "outputs": [
    {
     "name": "stdout",
     "output_type": "stream",
     "text": [
      "Para el clasificador random forest:\n",
      "Cross validation promedio:  0.478\n",
      "Cross validation std:       0.007\n",
      "Accuracy: 0.4762648145788199\n",
      "Balanced accuracy: 0.45642982449531605\n",
      "Matriz de confusion normalizada\n",
      "[[4.78848493e-01 9.56210299e-02 4.05460197e-04 4.66279227e-03\n",
      "  5.68995810e-02 6.25760238e-02 1.55426409e-03 1.08798486e-01\n",
      "  1.21502906e-01 1.17583457e-02 5.44668198e-02 3.37883498e-04\n",
      "  7.43343695e-04 2.02730099e-04 1.62184079e-03]\n",
      " [8.60338101e-02 3.98127438e-01 5.61768531e-03 1.60416125e-01\n",
      "  2.40312094e-02 9.93498049e-03 7.28738622e-02 1.96046814e-01\n",
      "  2.18465540e-02 8.94668401e-03 1.21716515e-02 3.64109233e-04\n",
      "  8.84265280e-04 5.20156047e-05 2.65279584e-03]\n",
      " [3.69843528e-02 2.13371266e-02 6.65718350e-01 1.99146515e-02\n",
      "  1.99146515e-02 2.13371266e-02 1.42247511e-02 1.70697013e-02\n",
      "  4.97866287e-02 5.12091038e-02 2.13371266e-02 5.68990043e-03\n",
      "  7.11237553e-03 2.13371266e-02 2.70270270e-02]\n",
      " [2.51572327e-03 8.42767296e-02 8.30188679e-02 4.77987421e-01\n",
      "  5.28301887e-02 3.77358491e-03 1.93710692e-01 8.55345912e-02\n",
      "  0.00000000e+00 3.77358491e-03 7.54716981e-03 1.25786164e-03\n",
      "  0.00000000e+00 1.25786164e-03 2.51572327e-03]\n",
      " [7.04007804e-02 1.44703683e-02 4.75571092e-02 2.82090887e-02\n",
      "  5.83448500e-01 1.57710755e-02 6.34094789e-03 2.23559060e-02\n",
      "  3.83708642e-02 4.55247541e-02 8.11316153e-02 4.95894643e-03\n",
      "  2.84529713e-03 1.00804813e-02 2.85342655e-02]\n",
      " [2.23140496e-01 5.34759358e-02 9.82012640e-02 7.87554691e-02\n",
      "  6.75741371e-02 1.50704910e-01 4.03500243e-02 4.66699076e-02\n",
      "  1.47301896e-01 4.22946038e-02 3.69470102e-02 3.88915897e-03\n",
      "  9.72289742e-04 1.45843461e-03 8.26446281e-03]\n",
      " [1.36580924e-03 4.30229911e-02 1.95765991e-02 1.67994537e-01\n",
      "  1.29751878e-02 2.27634874e-03 6.15979968e-01 1.16549055e-01\n",
      "  2.27634874e-04 3.86979285e-03 5.69087184e-03 1.36580924e-03\n",
      "  9.10539495e-04 2.27634874e-04 7.96722058e-03]\n",
      " [1.05369807e-01 1.33738602e-01 0.00000000e+00 5.26849037e-02\n",
      "  1.72239108e-02 8.10536981e-03 1.22593718e-01 5.06585613e-01\n",
      "  2.53292806e-02 2.02634245e-03 2.43161094e-02 0.00000000e+00\n",
      "  0.00000000e+00 0.00000000e+00 2.02634245e-03]\n",
      " [1.49947424e-01 5.46792850e-03 2.31335436e-03 4.20609884e-04\n",
      "  1.43007361e-02 3.38590957e-02 6.30914826e-04 1.15667718e-02\n",
      "  5.60462671e-01 4.20609884e-02 1.58149317e-01 2.73396425e-03\n",
      "  6.30914826e-03 3.15457413e-03 8.62250263e-03]\n",
      " [7.68156425e-02 1.53631285e-02 7.82122905e-02 1.67597765e-02\n",
      "  1.74581006e-01 2.65363128e-02 1.25698324e-02 1.53631285e-02\n",
      "  8.10055866e-02 2.65363128e-01 1.24301676e-01 6.98324022e-03\n",
      "  1.81564246e-02 6.98324022e-03 8.10055866e-02]\n",
      " [1.08474576e-01 2.82485876e-03 1.12994350e-03 1.12994350e-03\n",
      "  1.09039548e-01 1.52542373e-02 5.64971751e-04 1.52542373e-02\n",
      "  2.64971751e-01 7.34463277e-02 3.58757062e-01 7.90960452e-03\n",
      "  7.90960452e-03 5.64971751e-03 2.76836158e-02]\n",
      " [1.53846154e-02 0.00000000e+00 6.15384615e-02 3.07692308e-02\n",
      "  1.53846154e-02 0.00000000e+00 0.00000000e+00 0.00000000e+00\n",
      "  0.00000000e+00 0.00000000e+00 3.07692308e-02 4.30769231e-01\n",
      "  1.38461538e-01 1.38461538e-01 1.38461538e-01]\n",
      " [0.00000000e+00 0.00000000e+00 0.00000000e+00 0.00000000e+00\n",
      "  0.00000000e+00 0.00000000e+00 0.00000000e+00 0.00000000e+00\n",
      "  4.82758621e-02 0.00000000e+00 6.89655172e-03 2.13793103e-01\n",
      "  4.96551724e-01 9.65517241e-02 1.37931034e-01]\n",
      " [0.00000000e+00 0.00000000e+00 0.00000000e+00 0.00000000e+00\n",
      "  0.00000000e+00 0.00000000e+00 0.00000000e+00 0.00000000e+00\n",
      "  8.33333333e-02 0.00000000e+00 4.16666667e-02 1.66666667e-01\n",
      "  1.66666667e-01 5.00000000e-01 4.16666667e-02]\n",
      " [0.00000000e+00 2.38095238e-02 2.38095238e-02 0.00000000e+00\n",
      "  7.14285714e-02 0.00000000e+00 0.00000000e+00 2.38095238e-02\n",
      "  0.00000000e+00 4.76190476e-02 4.76190476e-02 2.85714286e-01\n",
      "  4.76190476e-02 7.14285714e-02 3.57142857e-01]]\n",
      "Tiempo que toma correrlo:\n",
      "73.8293249909998\n"
     ]
    },
    {
     "data": {
      "image/png": "[encoded data removed]",
      "text/plain": [
       "<Figure size 576x576 with 2 Axes>"
      ]
     },
     "metadata": {
      "needs_background": "light",
      "tags": []
     },
     "output_type": "display_data"
    }
   ],
   "source": [
    "start = timer()\n",
    "# creación de los arreglos de atributos y clases\n",
    "X_15features_FATS = df_15features_FATS.drop(['objectId', \"Clases\",'predicted_class'], axis=1)\n",
    "y_15features_FATS = np.array(df_15features_FATS['predicted_class'].map(mapa_15features))\n",
    "\n",
    "# separación en testeo y prueba\n",
    "X_train_15features_FATS, X_test_15features_FATS, y_train_15features_FATS, y_test_15features_FATS = train_test_split(X_15features_FATS, y_15features_FATS, test_size=0.33, random_state=66)\n",
    "\n",
    "# se llama al clasificador\n",
    "rfc_15features_FATS = BalancedRandomForestClassifier() \n",
    "# entrenamiento del modelo\n",
    "rfc_15features_FATS.fit(X_train_15features_FATS,y_train_15features_FATS)\n",
    "# predicciones\n",
    "rfc_predict_15features_FATS = rfc_15features_FATS.predict(X_test_15features_FATS)\n",
    "\n",
    "#cross value\n",
    "scores1_15features_FATS = cross_val_score(rfc_15features_FATS, X_15features_FATS, y_15features_FATS, cv=4, scoring='accuracy')\n",
    "print('Para el clasificador random forest:')\n",
    "print('Cross validation promedio: ', format(scores1_15features_FATS.mean(), '.3f'))\n",
    "print('Cross validation std:      ', format(scores1_15features_FATS.std(), '.3f'))\n",
    "print(\"Accuracy:\", metrics.accuracy_score(y_test_15features_FATS, rfc_predict_15features_FATS))\n",
    "print(\"Balanced accuracy:\", metrics.balanced_accuracy_score(y_test_15features_FATS, rfc_predict_15features_FATS))\n",
    "\n",
    "\n",
    "#matriz de confusión \n",
    "plot_confusion_matrix(y_test_15features_FATS, rfc_predict_15features_FATS, classes=clases_15features, normalize = True,\n",
    "                      title='Matriz de confusión BalancedRandomForest FATS features')\n",
    "print('Tiempo que toma correrlo:')\n",
    "end = timer()\n",
    "print(end - start)"
   ]
  },
  {
   "cell_type": "markdown",
   "metadata": {
    "id": "EO3tr213VSNn"
   },
   "source": [
    "# Links importantes\n",
    "- SN Hunter https://snhunter.alerce.online/\n",
    "- Python tutorial https://www.youtube.com/playlist?list=PLFA428AMRhwAfmfgEc4MP8m4PiNeqbxZv \n",
    "\n",
    "- OGLE Variable stars http://ogledb.astrouw.edu.pl/~ogle/CVS/\n",
    "- Catalogs PUC http://kpichara.ing.puc.cl/project/1/\n",
    "- Datos https://github.com/Wenupi/Datos_proyecto\n",
    "- Paper AleRCE https://arxiv.org/pdf/2008.03311.pdf\n"
   ]
  },
  {
   "cell_type": "markdown",
   "metadata": {
    "id": "0bAtvuHORYRi"
   },
   "source": [
    "# Referencias\n",
    "1. DataFrame plot [link 1](https://sciencelee.medium.com/making-plots-with-the-pandas-groupby-ac492941af28)\n",
    "\n",
    "2. Select random rows [link 2](https://cmdlinetips.com/2018/02/how-to-randomly-select-rows-in-pandas-pandas-tutorial/#:~:text=To%20randomly%20select%20rows%20from,sample%20with%20the%20argument%20n.&text=Every%20time%2C%20we%20run%20%E2%80%9Csample,rows%20from%20the%20Pandas%20dataframe.)\n",
    "\n",
    "3. Concatenate dataframes [link 3](https://pandas.pydata.org/pandas-docs/stable/user_guide/merging.html)\n",
    "\n",
    "4. RandomForest [link 4](https://medium.com/@hjhuney/implementing-a-random-forest-classification-model-in-python-583891c99652)\n",
    "\n",
    "5. Unbalanced classes [link 5](https://chrisalbon.com/machine_learning/trees_and_forests/handle_imbalanced_classes_in_random_forests/)\n",
    "\n",
    "6. Features importance [link 6](https://towardsdatascience.com/running-random-forests-inspect-the-feature-importances-with-this-code-2b00dd72b92e)\n",
    "\n",
    "7. Imblearn [link 7](https://imbalanced-learn.readthedocs.io/en/stable/generated/imblearn.ensemble.BalancedRandomForestClassifier.html#imblearn.ensemble.BalancedRandomForestClassifier.feature_importances_)"
   ]
  }
 ],
 "metadata": {
  "colab": {
   "collapsed_sections": [
    "EO3tr213VSNn"
   ],
   "name": "proyecto.ipynb",
   "provenance": []
  },
  "kernelspec": {
   "display_name": "Python 3",
   "language": "python",
   "name": "python3"
  },
  "language_info": {
   "codemirror_mode": {
    "name": "ipython",
    "version": 3
   },
   "file_extension": ".py",
   "mimetype": "text/x-python",
   "name": "python",
   "nbconvert_exporter": "python",
   "pygments_lexer": "ipython3",
   "version": "3.7.6"
  }
 },
 "nbformat": 4,
 "nbformat_minor": 1
}
